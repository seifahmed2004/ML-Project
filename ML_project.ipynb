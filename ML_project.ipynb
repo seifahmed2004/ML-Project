{
  "nbformat": 4,
  "nbformat_minor": 0,
  "metadata": {
    "colab": {
      "provenance": [],
      "authorship_tag": "ABX9TyOHIW56KE9ZYgaJLkJF022C",
      "include_colab_link": true
    },
    "kernelspec": {
      "name": "python3",
      "display_name": "Python 3"
    },
    "language_info": {
      "name": "python"
    }
  },
  "cells": [
    {
      "cell_type": "markdown",
      "metadata": {
        "id": "view-in-github",
        "colab_type": "text"
      },
      "source": [
        "<a href=\"https://colab.research.google.com/github/seifahmed2004/ML-Project/blob/main/ML_project.ipynb\" target=\"_parent\"><img src=\"https://colab.research.google.com/assets/colab-badge.svg\" alt=\"Open In Colab\"/></a>"
      ]
    },
    {
      "cell_type": "code",
      "execution_count": 1,
      "metadata": {
        "id": "2HehO8KMV4vh"
      },
      "outputs": [],
      "source": [
        "import pandas as pd\n",
        "import numpy as np\n",
        "import matplotlib.pyplot as plt\n",
        "import seaborn as sns\n",
        "import random\n",
        "from sklearn.model_selection import train_test_split\n",
        "from sklearn.linear_model import LogisticRegression\n",
        "from sklearn.metrics import accuracy_score\n",
        "from sklearn.metrics import confusion_matrix\n",
        "from sklearn.metrics import precision_score, recall_score, accuracy_score, f1_score\n",
        "from sklearn.metrics import roc_curve\n",
        "from sklearn.metrics import roc_auc_score"
      ]
    },
    {
      "cell_type": "code",
      "source": [
        "df = pd.read_csv(\"/content/mhealth_raw_data.csv\")\n",
        "df\n",
        "\n",
        "\n",
        "#second way to download the dataset\n",
        "# !kaggle datasets download -d gaurav2022/mobile-health\n",
        "# !unzip mobile-health.zip\n",
        "# df = pd.read_csv('mhealth_raw_data.csv')"
      ],
      "metadata": {
        "id": "iHgv6rrUV5jT",
        "colab": {
          "base_uri": "https://localhost:8080/",
          "height": 424
        },
        "outputId": "d63c4096-2021-46da-c18f-6a043a1d6b38"
      },
      "execution_count": 2,
      "outputs": [
        {
          "output_type": "execute_result",
          "data": {
            "text/plain": [
              "            alx     aly      alz       glx      gly      glz     arx     ary  \\\n",
              "0        2.1849 -9.6967  0.63077  0.103900 -0.84053 -0.68762 -8.6499 -4.5781   \n",
              "1        2.3876 -9.5080  0.68389  0.085343 -0.83865 -0.68369 -8.6275 -4.3198   \n",
              "2        2.4086 -9.5674  0.68113  0.085343 -0.83865 -0.68369 -8.5055 -4.2772   \n",
              "3        2.1814 -9.4301  0.55031  0.085343 -0.83865 -0.68369 -8.6279 -4.3163   \n",
              "4        2.4173 -9.3889  0.71098  0.085343 -0.83865 -0.68369 -8.7008 -4.1459   \n",
              "...         ...     ...      ...       ...      ...      ...     ...     ...   \n",
              "1215740  1.7849 -9.8287  0.29725 -0.341370 -0.90056 -0.61493 -3.7198 -8.9071   \n",
              "1215741  1.8687 -9.8766  0.46236 -0.341370 -0.90056 -0.61493 -3.7160 -8.7455   \n",
              "1215742  1.6928 -9.9290  0.16631 -0.341370 -0.90056 -0.61493 -3.8824 -9.1155   \n",
              "1215743  1.5279 -9.6306  0.30458 -0.341370 -0.90056 -0.61493 -3.5564 -9.1441   \n",
              "1215744  1.6614 -9.8398  0.18088 -0.332100 -0.90432 -0.61886 -3.9035 -8.9324   \n",
              "\n",
              "              arz       grx      gry       grz  Activity    subject  \n",
              "0        0.187760 -0.449020 -1.01030  0.034483         0   subject1  \n",
              "1        0.023595 -0.449020 -1.01030  0.034483         0   subject1  \n",
              "2        0.275720 -0.449020 -1.01030  0.034483         0   subject1  \n",
              "3        0.367520 -0.456860 -1.00820  0.025862         0   subject1  \n",
              "4        0.407290 -0.456860 -1.00820  0.025862         0   subject1  \n",
              "...           ...       ...      ...       ...       ...        ...  \n",
              "1215740  0.294230  0.041176 -0.99384 -0.480600         0  subject10  \n",
              "1215741  0.448140  0.041176 -0.99384 -0.480600         0  subject10  \n",
              "1215742  0.450480  0.041176 -0.99384 -0.480600         0  subject10  \n",
              "1215743  0.594880  0.041176 -0.99384 -0.480600         0  subject10  \n",
              "1215744  0.761710  0.035294 -1.02050 -0.471980         0  subject10  \n",
              "\n",
              "[1215745 rows x 14 columns]"
            ],
            "text/html": [
              "\n",
              "  <div id=\"df-6013a1da-0413-46e0-ba84-6da7f872ab50\" class=\"colab-df-container\">\n",
              "    <div>\n",
              "<style scoped>\n",
              "    .dataframe tbody tr th:only-of-type {\n",
              "        vertical-align: middle;\n",
              "    }\n",
              "\n",
              "    .dataframe tbody tr th {\n",
              "        vertical-align: top;\n",
              "    }\n",
              "\n",
              "    .dataframe thead th {\n",
              "        text-align: right;\n",
              "    }\n",
              "</style>\n",
              "<table border=\"1\" class=\"dataframe\">\n",
              "  <thead>\n",
              "    <tr style=\"text-align: right;\">\n",
              "      <th></th>\n",
              "      <th>alx</th>\n",
              "      <th>aly</th>\n",
              "      <th>alz</th>\n",
              "      <th>glx</th>\n",
              "      <th>gly</th>\n",
              "      <th>glz</th>\n",
              "      <th>arx</th>\n",
              "      <th>ary</th>\n",
              "      <th>arz</th>\n",
              "      <th>grx</th>\n",
              "      <th>gry</th>\n",
              "      <th>grz</th>\n",
              "      <th>Activity</th>\n",
              "      <th>subject</th>\n",
              "    </tr>\n",
              "  </thead>\n",
              "  <tbody>\n",
              "    <tr>\n",
              "      <th>0</th>\n",
              "      <td>2.1849</td>\n",
              "      <td>-9.6967</td>\n",
              "      <td>0.63077</td>\n",
              "      <td>0.103900</td>\n",
              "      <td>-0.84053</td>\n",
              "      <td>-0.68762</td>\n",
              "      <td>-8.6499</td>\n",
              "      <td>-4.5781</td>\n",
              "      <td>0.187760</td>\n",
              "      <td>-0.449020</td>\n",
              "      <td>-1.01030</td>\n",
              "      <td>0.034483</td>\n",
              "      <td>0</td>\n",
              "      <td>subject1</td>\n",
              "    </tr>\n",
              "    <tr>\n",
              "      <th>1</th>\n",
              "      <td>2.3876</td>\n",
              "      <td>-9.5080</td>\n",
              "      <td>0.68389</td>\n",
              "      <td>0.085343</td>\n",
              "      <td>-0.83865</td>\n",
              "      <td>-0.68369</td>\n",
              "      <td>-8.6275</td>\n",
              "      <td>-4.3198</td>\n",
              "      <td>0.023595</td>\n",
              "      <td>-0.449020</td>\n",
              "      <td>-1.01030</td>\n",
              "      <td>0.034483</td>\n",
              "      <td>0</td>\n",
              "      <td>subject1</td>\n",
              "    </tr>\n",
              "    <tr>\n",
              "      <th>2</th>\n",
              "      <td>2.4086</td>\n",
              "      <td>-9.5674</td>\n",
              "      <td>0.68113</td>\n",
              "      <td>0.085343</td>\n",
              "      <td>-0.83865</td>\n",
              "      <td>-0.68369</td>\n",
              "      <td>-8.5055</td>\n",
              "      <td>-4.2772</td>\n",
              "      <td>0.275720</td>\n",
              "      <td>-0.449020</td>\n",
              "      <td>-1.01030</td>\n",
              "      <td>0.034483</td>\n",
              "      <td>0</td>\n",
              "      <td>subject1</td>\n",
              "    </tr>\n",
              "    <tr>\n",
              "      <th>3</th>\n",
              "      <td>2.1814</td>\n",
              "      <td>-9.4301</td>\n",
              "      <td>0.55031</td>\n",
              "      <td>0.085343</td>\n",
              "      <td>-0.83865</td>\n",
              "      <td>-0.68369</td>\n",
              "      <td>-8.6279</td>\n",
              "      <td>-4.3163</td>\n",
              "      <td>0.367520</td>\n",
              "      <td>-0.456860</td>\n",
              "      <td>-1.00820</td>\n",
              "      <td>0.025862</td>\n",
              "      <td>0</td>\n",
              "      <td>subject1</td>\n",
              "    </tr>\n",
              "    <tr>\n",
              "      <th>4</th>\n",
              "      <td>2.4173</td>\n",
              "      <td>-9.3889</td>\n",
              "      <td>0.71098</td>\n",
              "      <td>0.085343</td>\n",
              "      <td>-0.83865</td>\n",
              "      <td>-0.68369</td>\n",
              "      <td>-8.7008</td>\n",
              "      <td>-4.1459</td>\n",
              "      <td>0.407290</td>\n",
              "      <td>-0.456860</td>\n",
              "      <td>-1.00820</td>\n",
              "      <td>0.025862</td>\n",
              "      <td>0</td>\n",
              "      <td>subject1</td>\n",
              "    </tr>\n",
              "    <tr>\n",
              "      <th>...</th>\n",
              "      <td>...</td>\n",
              "      <td>...</td>\n",
              "      <td>...</td>\n",
              "      <td>...</td>\n",
              "      <td>...</td>\n",
              "      <td>...</td>\n",
              "      <td>...</td>\n",
              "      <td>...</td>\n",
              "      <td>...</td>\n",
              "      <td>...</td>\n",
              "      <td>...</td>\n",
              "      <td>...</td>\n",
              "      <td>...</td>\n",
              "      <td>...</td>\n",
              "    </tr>\n",
              "    <tr>\n",
              "      <th>1215740</th>\n",
              "      <td>1.7849</td>\n",
              "      <td>-9.8287</td>\n",
              "      <td>0.29725</td>\n",
              "      <td>-0.341370</td>\n",
              "      <td>-0.90056</td>\n",
              "      <td>-0.61493</td>\n",
              "      <td>-3.7198</td>\n",
              "      <td>-8.9071</td>\n",
              "      <td>0.294230</td>\n",
              "      <td>0.041176</td>\n",
              "      <td>-0.99384</td>\n",
              "      <td>-0.480600</td>\n",
              "      <td>0</td>\n",
              "      <td>subject10</td>\n",
              "    </tr>\n",
              "    <tr>\n",
              "      <th>1215741</th>\n",
              "      <td>1.8687</td>\n",
              "      <td>-9.8766</td>\n",
              "      <td>0.46236</td>\n",
              "      <td>-0.341370</td>\n",
              "      <td>-0.90056</td>\n",
              "      <td>-0.61493</td>\n",
              "      <td>-3.7160</td>\n",
              "      <td>-8.7455</td>\n",
              "      <td>0.448140</td>\n",
              "      <td>0.041176</td>\n",
              "      <td>-0.99384</td>\n",
              "      <td>-0.480600</td>\n",
              "      <td>0</td>\n",
              "      <td>subject10</td>\n",
              "    </tr>\n",
              "    <tr>\n",
              "      <th>1215742</th>\n",
              "      <td>1.6928</td>\n",
              "      <td>-9.9290</td>\n",
              "      <td>0.16631</td>\n",
              "      <td>-0.341370</td>\n",
              "      <td>-0.90056</td>\n",
              "      <td>-0.61493</td>\n",
              "      <td>-3.8824</td>\n",
              "      <td>-9.1155</td>\n",
              "      <td>0.450480</td>\n",
              "      <td>0.041176</td>\n",
              "      <td>-0.99384</td>\n",
              "      <td>-0.480600</td>\n",
              "      <td>0</td>\n",
              "      <td>subject10</td>\n",
              "    </tr>\n",
              "    <tr>\n",
              "      <th>1215743</th>\n",
              "      <td>1.5279</td>\n",
              "      <td>-9.6306</td>\n",
              "      <td>0.30458</td>\n",
              "      <td>-0.341370</td>\n",
              "      <td>-0.90056</td>\n",
              "      <td>-0.61493</td>\n",
              "      <td>-3.5564</td>\n",
              "      <td>-9.1441</td>\n",
              "      <td>0.594880</td>\n",
              "      <td>0.041176</td>\n",
              "      <td>-0.99384</td>\n",
              "      <td>-0.480600</td>\n",
              "      <td>0</td>\n",
              "      <td>subject10</td>\n",
              "    </tr>\n",
              "    <tr>\n",
              "      <th>1215744</th>\n",
              "      <td>1.6614</td>\n",
              "      <td>-9.8398</td>\n",
              "      <td>0.18088</td>\n",
              "      <td>-0.332100</td>\n",
              "      <td>-0.90432</td>\n",
              "      <td>-0.61886</td>\n",
              "      <td>-3.9035</td>\n",
              "      <td>-8.9324</td>\n",
              "      <td>0.761710</td>\n",
              "      <td>0.035294</td>\n",
              "      <td>-1.02050</td>\n",
              "      <td>-0.471980</td>\n",
              "      <td>0</td>\n",
              "      <td>subject10</td>\n",
              "    </tr>\n",
              "  </tbody>\n",
              "</table>\n",
              "<p>1215745 rows × 14 columns</p>\n",
              "</div>\n",
              "    <div class=\"colab-df-buttons\">\n",
              "\n",
              "  <div class=\"colab-df-container\">\n",
              "    <button class=\"colab-df-convert\" onclick=\"convertToInteractive('df-6013a1da-0413-46e0-ba84-6da7f872ab50')\"\n",
              "            title=\"Convert this dataframe to an interactive table.\"\n",
              "            style=\"display:none;\">\n",
              "\n",
              "  <svg xmlns=\"http://www.w3.org/2000/svg\" height=\"24px\" viewBox=\"0 -960 960 960\">\n",
              "    <path d=\"M120-120v-720h720v720H120Zm60-500h600v-160H180v160Zm220 220h160v-160H400v160Zm0 220h160v-160H400v160ZM180-400h160v-160H180v160Zm440 0h160v-160H620v160ZM180-180h160v-160H180v160Zm440 0h160v-160H620v160Z\"/>\n",
              "  </svg>\n",
              "    </button>\n",
              "\n",
              "  <style>\n",
              "    .colab-df-container {\n",
              "      display:flex;\n",
              "      gap: 12px;\n",
              "    }\n",
              "\n",
              "    .colab-df-convert {\n",
              "      background-color: #E8F0FE;\n",
              "      border: none;\n",
              "      border-radius: 50%;\n",
              "      cursor: pointer;\n",
              "      display: none;\n",
              "      fill: #1967D2;\n",
              "      height: 32px;\n",
              "      padding: 0 0 0 0;\n",
              "      width: 32px;\n",
              "    }\n",
              "\n",
              "    .colab-df-convert:hover {\n",
              "      background-color: #E2EBFA;\n",
              "      box-shadow: 0px 1px 2px rgba(60, 64, 67, 0.3), 0px 1px 3px 1px rgba(60, 64, 67, 0.15);\n",
              "      fill: #174EA6;\n",
              "    }\n",
              "\n",
              "    .colab-df-buttons div {\n",
              "      margin-bottom: 4px;\n",
              "    }\n",
              "\n",
              "    [theme=dark] .colab-df-convert {\n",
              "      background-color: #3B4455;\n",
              "      fill: #D2E3FC;\n",
              "    }\n",
              "\n",
              "    [theme=dark] .colab-df-convert:hover {\n",
              "      background-color: #434B5C;\n",
              "      box-shadow: 0px 1px 3px 1px rgba(0, 0, 0, 0.15);\n",
              "      filter: drop-shadow(0px 1px 2px rgba(0, 0, 0, 0.3));\n",
              "      fill: #FFFFFF;\n",
              "    }\n",
              "  </style>\n",
              "\n",
              "    <script>\n",
              "      const buttonEl =\n",
              "        document.querySelector('#df-6013a1da-0413-46e0-ba84-6da7f872ab50 button.colab-df-convert');\n",
              "      buttonEl.style.display =\n",
              "        google.colab.kernel.accessAllowed ? 'block' : 'none';\n",
              "\n",
              "      async function convertToInteractive(key) {\n",
              "        const element = document.querySelector('#df-6013a1da-0413-46e0-ba84-6da7f872ab50');\n",
              "        const dataTable =\n",
              "          await google.colab.kernel.invokeFunction('convertToInteractive',\n",
              "                                                    [key], {});\n",
              "        if (!dataTable) return;\n",
              "\n",
              "        const docLinkHtml = 'Like what you see? Visit the ' +\n",
              "          '<a target=\"_blank\" href=https://colab.research.google.com/notebooks/data_table.ipynb>data table notebook</a>'\n",
              "          + ' to learn more about interactive tables.';\n",
              "        element.innerHTML = '';\n",
              "        dataTable['output_type'] = 'display_data';\n",
              "        await google.colab.output.renderOutput(dataTable, element);\n",
              "        const docLink = document.createElement('div');\n",
              "        docLink.innerHTML = docLinkHtml;\n",
              "        element.appendChild(docLink);\n",
              "      }\n",
              "    </script>\n",
              "  </div>\n",
              "\n",
              "\n",
              "<div id=\"df-83547512-7d12-410b-94c6-dbdc69c9f067\">\n",
              "  <button class=\"colab-df-quickchart\" onclick=\"quickchart('df-83547512-7d12-410b-94c6-dbdc69c9f067')\"\n",
              "            title=\"Suggest charts\"\n",
              "            style=\"display:none;\">\n",
              "\n",
              "<svg xmlns=\"http://www.w3.org/2000/svg\" height=\"24px\"viewBox=\"0 0 24 24\"\n",
              "     width=\"24px\">\n",
              "    <g>\n",
              "        <path d=\"M19 3H5c-1.1 0-2 .9-2 2v14c0 1.1.9 2 2 2h14c1.1 0 2-.9 2-2V5c0-1.1-.9-2-2-2zM9 17H7v-7h2v7zm4 0h-2V7h2v10zm4 0h-2v-4h2v4z\"/>\n",
              "    </g>\n",
              "</svg>\n",
              "  </button>\n",
              "\n",
              "<style>\n",
              "  .colab-df-quickchart {\n",
              "      --bg-color: #E8F0FE;\n",
              "      --fill-color: #1967D2;\n",
              "      --hover-bg-color: #E2EBFA;\n",
              "      --hover-fill-color: #174EA6;\n",
              "      --disabled-fill-color: #AAA;\n",
              "      --disabled-bg-color: #DDD;\n",
              "  }\n",
              "\n",
              "  [theme=dark] .colab-df-quickchart {\n",
              "      --bg-color: #3B4455;\n",
              "      --fill-color: #D2E3FC;\n",
              "      --hover-bg-color: #434B5C;\n",
              "      --hover-fill-color: #FFFFFF;\n",
              "      --disabled-bg-color: #3B4455;\n",
              "      --disabled-fill-color: #666;\n",
              "  }\n",
              "\n",
              "  .colab-df-quickchart {\n",
              "    background-color: var(--bg-color);\n",
              "    border: none;\n",
              "    border-radius: 50%;\n",
              "    cursor: pointer;\n",
              "    display: none;\n",
              "    fill: var(--fill-color);\n",
              "    height: 32px;\n",
              "    padding: 0;\n",
              "    width: 32px;\n",
              "  }\n",
              "\n",
              "  .colab-df-quickchart:hover {\n",
              "    background-color: var(--hover-bg-color);\n",
              "    box-shadow: 0 1px 2px rgba(60, 64, 67, 0.3), 0 1px 3px 1px rgba(60, 64, 67, 0.15);\n",
              "    fill: var(--button-hover-fill-color);\n",
              "  }\n",
              "\n",
              "  .colab-df-quickchart-complete:disabled,\n",
              "  .colab-df-quickchart-complete:disabled:hover {\n",
              "    background-color: var(--disabled-bg-color);\n",
              "    fill: var(--disabled-fill-color);\n",
              "    box-shadow: none;\n",
              "  }\n",
              "\n",
              "  .colab-df-spinner {\n",
              "    border: 2px solid var(--fill-color);\n",
              "    border-color: transparent;\n",
              "    border-bottom-color: var(--fill-color);\n",
              "    animation:\n",
              "      spin 1s steps(1) infinite;\n",
              "  }\n",
              "\n",
              "  @keyframes spin {\n",
              "    0% {\n",
              "      border-color: transparent;\n",
              "      border-bottom-color: var(--fill-color);\n",
              "      border-left-color: var(--fill-color);\n",
              "    }\n",
              "    20% {\n",
              "      border-color: transparent;\n",
              "      border-left-color: var(--fill-color);\n",
              "      border-top-color: var(--fill-color);\n",
              "    }\n",
              "    30% {\n",
              "      border-color: transparent;\n",
              "      border-left-color: var(--fill-color);\n",
              "      border-top-color: var(--fill-color);\n",
              "      border-right-color: var(--fill-color);\n",
              "    }\n",
              "    40% {\n",
              "      border-color: transparent;\n",
              "      border-right-color: var(--fill-color);\n",
              "      border-top-color: var(--fill-color);\n",
              "    }\n",
              "    60% {\n",
              "      border-color: transparent;\n",
              "      border-right-color: var(--fill-color);\n",
              "    }\n",
              "    80% {\n",
              "      border-color: transparent;\n",
              "      border-right-color: var(--fill-color);\n",
              "      border-bottom-color: var(--fill-color);\n",
              "    }\n",
              "    90% {\n",
              "      border-color: transparent;\n",
              "      border-bottom-color: var(--fill-color);\n",
              "    }\n",
              "  }\n",
              "</style>\n",
              "\n",
              "  <script>\n",
              "    async function quickchart(key) {\n",
              "      const quickchartButtonEl =\n",
              "        document.querySelector('#' + key + ' button');\n",
              "      quickchartButtonEl.disabled = true;  // To prevent multiple clicks.\n",
              "      quickchartButtonEl.classList.add('colab-df-spinner');\n",
              "      try {\n",
              "        const charts = await google.colab.kernel.invokeFunction(\n",
              "            'suggestCharts', [key], {});\n",
              "      } catch (error) {\n",
              "        console.error('Error during call to suggestCharts:', error);\n",
              "      }\n",
              "      quickchartButtonEl.classList.remove('colab-df-spinner');\n",
              "      quickchartButtonEl.classList.add('colab-df-quickchart-complete');\n",
              "    }\n",
              "    (() => {\n",
              "      let quickchartButtonEl =\n",
              "        document.querySelector('#df-83547512-7d12-410b-94c6-dbdc69c9f067 button');\n",
              "      quickchartButtonEl.style.display =\n",
              "        google.colab.kernel.accessAllowed ? 'block' : 'none';\n",
              "    })();\n",
              "  </script>\n",
              "</div>\n",
              "\n",
              "  <div id=\"id_83cdb1e6-d20d-48f6-a494-8c88f7a4e8db\">\n",
              "    <style>\n",
              "      .colab-df-generate {\n",
              "        background-color: #E8F0FE;\n",
              "        border: none;\n",
              "        border-radius: 50%;\n",
              "        cursor: pointer;\n",
              "        display: none;\n",
              "        fill: #1967D2;\n",
              "        height: 32px;\n",
              "        padding: 0 0 0 0;\n",
              "        width: 32px;\n",
              "      }\n",
              "\n",
              "      .colab-df-generate:hover {\n",
              "        background-color: #E2EBFA;\n",
              "        box-shadow: 0px 1px 2px rgba(60, 64, 67, 0.3), 0px 1px 3px 1px rgba(60, 64, 67, 0.15);\n",
              "        fill: #174EA6;\n",
              "      }\n",
              "\n",
              "      [theme=dark] .colab-df-generate {\n",
              "        background-color: #3B4455;\n",
              "        fill: #D2E3FC;\n",
              "      }\n",
              "\n",
              "      [theme=dark] .colab-df-generate:hover {\n",
              "        background-color: #434B5C;\n",
              "        box-shadow: 0px 1px 3px 1px rgba(0, 0, 0, 0.15);\n",
              "        filter: drop-shadow(0px 1px 2px rgba(0, 0, 0, 0.3));\n",
              "        fill: #FFFFFF;\n",
              "      }\n",
              "    </style>\n",
              "    <button class=\"colab-df-generate\" onclick=\"generateWithVariable('df')\"\n",
              "            title=\"Generate code using this dataframe.\"\n",
              "            style=\"display:none;\">\n",
              "\n",
              "  <svg xmlns=\"http://www.w3.org/2000/svg\" height=\"24px\"viewBox=\"0 0 24 24\"\n",
              "       width=\"24px\">\n",
              "    <path d=\"M7,19H8.4L18.45,9,17,7.55,7,17.6ZM5,21V16.75L18.45,3.32a2,2,0,0,1,2.83,0l1.4,1.43a1.91,1.91,0,0,1,.58,1.4,1.91,1.91,0,0,1-.58,1.4L9.25,21ZM18.45,9,17,7.55Zm-12,3A5.31,5.31,0,0,0,4.9,8.1,5.31,5.31,0,0,0,1,6.5,5.31,5.31,0,0,0,4.9,4.9,5.31,5.31,0,0,0,6.5,1,5.31,5.31,0,0,0,8.1,4.9,5.31,5.31,0,0,0,12,6.5,5.46,5.46,0,0,0,6.5,12Z\"/>\n",
              "  </svg>\n",
              "    </button>\n",
              "    <script>\n",
              "      (() => {\n",
              "      const buttonEl =\n",
              "        document.querySelector('#id_83cdb1e6-d20d-48f6-a494-8c88f7a4e8db button.colab-df-generate');\n",
              "      buttonEl.style.display =\n",
              "        google.colab.kernel.accessAllowed ? 'block' : 'none';\n",
              "\n",
              "      buttonEl.onclick = () => {\n",
              "        google.colab.notebook.generateWithVariable('df');\n",
              "      }\n",
              "      })();\n",
              "    </script>\n",
              "  </div>\n",
              "\n",
              "    </div>\n",
              "  </div>\n"
            ],
            "application/vnd.google.colaboratory.intrinsic+json": {
              "type": "dataframe",
              "variable_name": "df"
            }
          },
          "metadata": {},
          "execution_count": 2
        }
      ]
    },
    {
      "cell_type": "code",
      "source": [
        "from sklearn.preprocessing import LabelEncoder\n",
        "from sklearn.preprocessing import StandardScaler\n",
        "\n",
        "le = LabelEncoder()\n",
        "df['subject_encoded'] = le.fit_transform(df['subject'])\n",
        "df.drop(columns=['subject'], inplace=True)\n",
        "sample_of_data = df.sample(n=10000, random_state=42)\n",
        "X = sample_of_data.drop(columns=['Activity'])\n",
        "y = sample_of_data['Activity']\n",
        "X_train, X_test, y_train, y_test = train_test_split(X, y, test_size=0.2, random_state=42)\n",
        "scaler = StandardScaler()\n",
        "X_train_normalized = scaler.fit_transform(X_train)\n",
        "X_test_normalized = scaler.transform(X_test)"
      ],
      "metadata": {
        "id": "4ilF7d4APL3y"
      },
      "execution_count": 3,
      "outputs": []
    },
    {
      "cell_type": "code",
      "source": [
        "numeric_columns = df.select_dtypes(include=['int', 'float'])\n",
        "\n",
        "plt.figure(figsize=(12, 8))\n",
        "sns.heatmap(numeric_columns.corr(), annot=True, cmap='coolwarm', fmt=\".2f\")\n",
        "plt.title('Heatmap of the Dataset')\n",
        "plt.show()"
      ],
      "metadata": {
        "id": "sjJW45HefzbN",
        "outputId": "8419e827-9f65-485e-8539-184f2692866a",
        "colab": {
          "base_uri": "https://localhost:8080/",
          "height": 802
        }
      },
      "execution_count": 54,
      "outputs": [
        {
          "output_type": "display_data",
          "data": {
            "text/plain": [
              "<Figure size 1200x800 with 2 Axes>"
            ],
            "image/png": "[encoded data removed]"
          },
          "metadata": {}
        }
      ]
    },
    {
      "cell_type": "code",
      "source": [
        "df_subset = df.iloc[50000:50200]\n",
        "df_subset"
      ],
      "metadata": {
        "id": "AVzM8Hhl1-SY",
        "colab": {
          "base_uri": "https://localhost:8080/",
          "height": 424
        },
        "outputId": "fa0d704c-c09a-4a5f-fca0-b6cbc69f0c42"
      },
      "execution_count": 4,
      "outputs": [
        {
          "output_type": "execute_result",
          "data": {
            "text/plain": [
              "          alx     aly      alz      glx      gly      glz     arx     ary  \\\n",
              "50000  2.2716 -9.3919  0.41771 -0.34508 -0.78049  0.36149 -3.6387 -9.2130   \n",
              "50001  2.1813 -9.5103  0.45255 -0.34508 -0.78049  0.36149 -3.8422 -9.1820   \n",
              "50002  2.1922 -9.5296  0.50377 -0.34508 -0.78049  0.36149 -3.8927 -9.2516   \n",
              "50003  2.3170 -9.6572  0.61322 -0.34508 -0.78049  0.36149 -3.9181 -9.2432   \n",
              "50004  2.2754 -9.6680  0.52894 -0.34508 -0.78049  0.36149 -4.0132 -9.1817   \n",
              "...       ...     ...      ...      ...      ...      ...     ...     ...   \n",
              "50195  2.1828 -9.6188  0.49922 -0.35436 -0.78987  0.36739 -3.3133 -9.1982   \n",
              "50196  2.2755 -9.4079  0.79194 -0.35436 -0.78987  0.36739 -3.1108 -9.0861   \n",
              "50197  2.3695 -9.9658  0.45249 -0.34879 -0.77861  0.37721 -3.1826 -9.1254   \n",
              "50198  2.0005 -9.6274  0.62197 -0.34879 -0.77861  0.37721 -3.1135 -8.9656   \n",
              "50199  2.1623 -9.5189  0.58735 -0.34879 -0.77861  0.37721 -3.1289 -9.1166   \n",
              "\n",
              "          arz      grx      gry       grz  Activity  subject_encoded  \n",
              "50000  1.6956 -0.86667 -0.63039  0.103450         0                0  \n",
              "50001  1.8013 -0.85294 -0.64271  0.075431         0                0  \n",
              "50002  1.8395 -0.85294 -0.64271  0.075431         0                0  \n",
              "50003  1.6837 -0.85294 -0.64271  0.075431         0                0  \n",
              "50004  1.8326 -0.85490 -0.67762  0.056034         0                0  \n",
              "...       ...      ...      ...       ...       ...              ...  \n",
              "50195  1.1755 -0.87843 -0.60575  0.120690         0                0  \n",
              "50196  1.3894 -0.89020 -0.60575  0.120690         0                0  \n",
              "50197  1.4604 -0.89020 -0.60575  0.120690         0                0  \n",
              "50198  1.4371 -0.89020 -0.60575  0.120690         0                0  \n",
              "50199  1.3358 -0.89020 -0.60575  0.120690         0                0  \n",
              "\n",
              "[200 rows x 14 columns]"
            ],
            "text/html": [
              "\n",
              "  <div id=\"df-811564bb-18b9-4d45-8e3a-b2c4a4cfafb9\" class=\"colab-df-container\">\n",
              "    <div>\n",
              "<style scoped>\n",
              "    .dataframe tbody tr th:only-of-type {\n",
              "        vertical-align: middle;\n",
              "    }\n",
              "\n",
              "    .dataframe tbody tr th {\n",
              "        vertical-align: top;\n",
              "    }\n",
              "\n",
              "    .dataframe thead th {\n",
              "        text-align: right;\n",
              "    }\n",
              "</style>\n",
              "<table border=\"1\" class=\"dataframe\">\n",
              "  <thead>\n",
              "    <tr style=\"text-align: right;\">\n",
              "      <th></th>\n",
              "      <th>alx</th>\n",
              "      <th>aly</th>\n",
              "      <th>alz</th>\n",
              "      <th>glx</th>\n",
              "      <th>gly</th>\n",
              "      <th>glz</th>\n",
              "      <th>arx</th>\n",
              "      <th>ary</th>\n",
              "      <th>arz</th>\n",
              "      <th>grx</th>\n",
              "      <th>gry</th>\n",
              "      <th>grz</th>\n",
              "      <th>Activity</th>\n",
              "      <th>subject_encoded</th>\n",
              "    </tr>\n",
              "  </thead>\n",
              "  <tbody>\n",
              "    <tr>\n",
              "      <th>50000</th>\n",
              "      <td>2.2716</td>\n",
              "      <td>-9.3919</td>\n",
              "      <td>0.41771</td>\n",
              "      <td>-0.34508</td>\n",
              "      <td>-0.78049</td>\n",
              "      <td>0.36149</td>\n",
              "      <td>-3.6387</td>\n",
              "      <td>-9.2130</td>\n",
              "      <td>1.6956</td>\n",
              "      <td>-0.86667</td>\n",
              "      <td>-0.63039</td>\n",
              "      <td>0.103450</td>\n",
              "      <td>0</td>\n",
              "      <td>0</td>\n",
              "    </tr>\n",
              "    <tr>\n",
              "      <th>50001</th>\n",
              "      <td>2.1813</td>\n",
              "      <td>-9.5103</td>\n",
              "      <td>0.45255</td>\n",
              "      <td>-0.34508</td>\n",
              "      <td>-0.78049</td>\n",
              "      <td>0.36149</td>\n",
              "      <td>-3.8422</td>\n",
              "      <td>-9.1820</td>\n",
              "      <td>1.8013</td>\n",
              "      <td>-0.85294</td>\n",
              "      <td>-0.64271</td>\n",
              "      <td>0.075431</td>\n",
              "      <td>0</td>\n",
              "      <td>0</td>\n",
              "    </tr>\n",
              "    <tr>\n",
              "      <th>50002</th>\n",
              "      <td>2.1922</td>\n",
              "      <td>-9.5296</td>\n",
              "      <td>0.50377</td>\n",
              "      <td>-0.34508</td>\n",
              "      <td>-0.78049</td>\n",
              "      <td>0.36149</td>\n",
              "      <td>-3.8927</td>\n",
              "      <td>-9.2516</td>\n",
              "      <td>1.8395</td>\n",
              "      <td>-0.85294</td>\n",
              "      <td>-0.64271</td>\n",
              "      <td>0.075431</td>\n",
              "      <td>0</td>\n",
              "      <td>0</td>\n",
              "    </tr>\n",
              "    <tr>\n",
              "      <th>50003</th>\n",
              "      <td>2.3170</td>\n",
              "      <td>-9.6572</td>\n",
              "      <td>0.61322</td>\n",
              "      <td>-0.34508</td>\n",
              "      <td>-0.78049</td>\n",
              "      <td>0.36149</td>\n",
              "      <td>-3.9181</td>\n",
              "      <td>-9.2432</td>\n",
              "      <td>1.6837</td>\n",
              "      <td>-0.85294</td>\n",
              "      <td>-0.64271</td>\n",
              "      <td>0.075431</td>\n",
              "      <td>0</td>\n",
              "      <td>0</td>\n",
              "    </tr>\n",
              "    <tr>\n",
              "      <th>50004</th>\n",
              "      <td>2.2754</td>\n",
              "      <td>-9.6680</td>\n",
              "      <td>0.52894</td>\n",
              "      <td>-0.34508</td>\n",
              "      <td>-0.78049</td>\n",
              "      <td>0.36149</td>\n",
              "      <td>-4.0132</td>\n",
              "      <td>-9.1817</td>\n",
              "      <td>1.8326</td>\n",
              "      <td>-0.85490</td>\n",
              "      <td>-0.67762</td>\n",
              "      <td>0.056034</td>\n",
              "      <td>0</td>\n",
              "      <td>0</td>\n",
              "    </tr>\n",
              "    <tr>\n",
              "      <th>...</th>\n",
              "      <td>...</td>\n",
              "      <td>...</td>\n",
              "      <td>...</td>\n",
              "      <td>...</td>\n",
              "      <td>...</td>\n",
              "      <td>...</td>\n",
              "      <td>...</td>\n",
              "      <td>...</td>\n",
              "      <td>...</td>\n",
              "      <td>...</td>\n",
              "      <td>...</td>\n",
              "      <td>...</td>\n",
              "      <td>...</td>\n",
              "      <td>...</td>\n",
              "    </tr>\n",
              "    <tr>\n",
              "      <th>50195</th>\n",
              "      <td>2.1828</td>\n",
              "      <td>-9.6188</td>\n",
              "      <td>0.49922</td>\n",
              "      <td>-0.35436</td>\n",
              "      <td>-0.78987</td>\n",
              "      <td>0.36739</td>\n",
              "      <td>-3.3133</td>\n",
              "      <td>-9.1982</td>\n",
              "      <td>1.1755</td>\n",
              "      <td>-0.87843</td>\n",
              "      <td>-0.60575</td>\n",
              "      <td>0.120690</td>\n",
              "      <td>0</td>\n",
              "      <td>0</td>\n",
              "    </tr>\n",
              "    <tr>\n",
              "      <th>50196</th>\n",
              "      <td>2.2755</td>\n",
              "      <td>-9.4079</td>\n",
              "      <td>0.79194</td>\n",
              "      <td>-0.35436</td>\n",
              "      <td>-0.78987</td>\n",
              "      <td>0.36739</td>\n",
              "      <td>-3.1108</td>\n",
              "      <td>-9.0861</td>\n",
              "      <td>1.3894</td>\n",
              "      <td>-0.89020</td>\n",
              "      <td>-0.60575</td>\n",
              "      <td>0.120690</td>\n",
              "      <td>0</td>\n",
              "      <td>0</td>\n",
              "    </tr>\n",
              "    <tr>\n",
              "      <th>50197</th>\n",
              "      <td>2.3695</td>\n",
              "      <td>-9.9658</td>\n",
              "      <td>0.45249</td>\n",
              "      <td>-0.34879</td>\n",
              "      <td>-0.77861</td>\n",
              "      <td>0.37721</td>\n",
              "      <td>-3.1826</td>\n",
              "      <td>-9.1254</td>\n",
              "      <td>1.4604</td>\n",
              "      <td>-0.89020</td>\n",
              "      <td>-0.60575</td>\n",
              "      <td>0.120690</td>\n",
              "      <td>0</td>\n",
              "      <td>0</td>\n",
              "    </tr>\n",
              "    <tr>\n",
              "      <th>50198</th>\n",
              "      <td>2.0005</td>\n",
              "      <td>-9.6274</td>\n",
              "      <td>0.62197</td>\n",
              "      <td>-0.34879</td>\n",
              "      <td>-0.77861</td>\n",
              "      <td>0.37721</td>\n",
              "      <td>-3.1135</td>\n",
              "      <td>-8.9656</td>\n",
              "      <td>1.4371</td>\n",
              "      <td>-0.89020</td>\n",
              "      <td>-0.60575</td>\n",
              "      <td>0.120690</td>\n",
              "      <td>0</td>\n",
              "      <td>0</td>\n",
              "    </tr>\n",
              "    <tr>\n",
              "      <th>50199</th>\n",
              "      <td>2.1623</td>\n",
              "      <td>-9.5189</td>\n",
              "      <td>0.58735</td>\n",
              "      <td>-0.34879</td>\n",
              "      <td>-0.77861</td>\n",
              "      <td>0.37721</td>\n",
              "      <td>-3.1289</td>\n",
              "      <td>-9.1166</td>\n",
              "      <td>1.3358</td>\n",
              "      <td>-0.89020</td>\n",
              "      <td>-0.60575</td>\n",
              "      <td>0.120690</td>\n",
              "      <td>0</td>\n",
              "      <td>0</td>\n",
              "    </tr>\n",
              "  </tbody>\n",
              "</table>\n",
              "<p>200 rows × 14 columns</p>\n",
              "</div>\n",
              "    <div class=\"colab-df-buttons\">\n",
              "\n",
              "  <div class=\"colab-df-container\">\n",
              "    <button class=\"colab-df-convert\" onclick=\"convertToInteractive('df-811564bb-18b9-4d45-8e3a-b2c4a4cfafb9')\"\n",
              "            title=\"Convert this dataframe to an interactive table.\"\n",
              "            style=\"display:none;\">\n",
              "\n",
              "  <svg xmlns=\"http://www.w3.org/2000/svg\" height=\"24px\" viewBox=\"0 -960 960 960\">\n",
              "    <path d=\"M120-120v-720h720v720H120Zm60-500h600v-160H180v160Zm220 220h160v-160H400v160Zm0 220h160v-160H400v160ZM180-400h160v-160H180v160Zm440 0h160v-160H620v160ZM180-180h160v-160H180v160Zm440 0h160v-160H620v160Z\"/>\n",
              "  </svg>\n",
              "    </button>\n",
              "\n",
              "  <style>\n",
              "    .colab-df-container {\n",
              "      display:flex;\n",
              "      gap: 12px;\n",
              "    }\n",
              "\n",
              "    .colab-df-convert {\n",
              "      background-color: #E8F0FE;\n",
              "      border: none;\n",
              "      border-radius: 50%;\n",
              "      cursor: pointer;\n",
              "      display: none;\n",
              "      fill: #1967D2;\n",
              "      height: 32px;\n",
              "      padding: 0 0 0 0;\n",
              "      width: 32px;\n",
              "    }\n",
              "\n",
              "    .colab-df-convert:hover {\n",
              "      background-color: #E2EBFA;\n",
              "      box-shadow: 0px 1px 2px rgba(60, 64, 67, 0.3), 0px 1px 3px 1px rgba(60, 64, 67, 0.15);\n",
              "      fill: #174EA6;\n",
              "    }\n",
              "\n",
              "    .colab-df-buttons div {\n",
              "      margin-bottom: 4px;\n",
              "    }\n",
              "\n",
              "    [theme=dark] .colab-df-convert {\n",
              "      background-color: #3B4455;\n",
              "      fill: #D2E3FC;\n",
              "    }\n",
              "\n",
              "    [theme=dark] .colab-df-convert:hover {\n",
              "      background-color: #434B5C;\n",
              "      box-shadow: 0px 1px 3px 1px rgba(0, 0, 0, 0.15);\n",
              "      filter: drop-shadow(0px 1px 2px rgba(0, 0, 0, 0.3));\n",
              "      fill: #FFFFFF;\n",
              "    }\n",
              "  </style>\n",
              "\n",
              "    <script>\n",
              "      const buttonEl =\n",
              "        document.querySelector('#df-811564bb-18b9-4d45-8e3a-b2c4a4cfafb9 button.colab-df-convert');\n",
              "      buttonEl.style.display =\n",
              "        google.colab.kernel.accessAllowed ? 'block' : 'none';\n",
              "\n",
              "      async function convertToInteractive(key) {\n",
              "        const element = document.querySelector('#df-811564bb-18b9-4d45-8e3a-b2c4a4cfafb9');\n",
              "        const dataTable =\n",
              "          await google.colab.kernel.invokeFunction('convertToInteractive',\n",
              "                                                    [key], {});\n",
              "        if (!dataTable) return;\n",
              "\n",
              "        const docLinkHtml = 'Like what you see? Visit the ' +\n",
              "          '<a target=\"_blank\" href=https://colab.research.google.com/notebooks/data_table.ipynb>data table notebook</a>'\n",
              "          + ' to learn more about interactive tables.';\n",
              "        element.innerHTML = '';\n",
              "        dataTable['output_type'] = 'display_data';\n",
              "        await google.colab.output.renderOutput(dataTable, element);\n",
              "        const docLink = document.createElement('div');\n",
              "        docLink.innerHTML = docLinkHtml;\n",
              "        element.appendChild(docLink);\n",
              "      }\n",
              "    </script>\n",
              "  </div>\n",
              "\n",
              "\n",
              "<div id=\"df-42ae6c61-a00a-47b1-bc69-b7a5e0d33602\">\n",
              "  <button class=\"colab-df-quickchart\" onclick=\"quickchart('df-42ae6c61-a00a-47b1-bc69-b7a5e0d33602')\"\n",
              "            title=\"Suggest charts\"\n",
              "            style=\"display:none;\">\n",
              "\n",
              "<svg xmlns=\"http://www.w3.org/2000/svg\" height=\"24px\"viewBox=\"0 0 24 24\"\n",
              "     width=\"24px\">\n",
              "    <g>\n",
              "        <path d=\"M19 3H5c-1.1 0-2 .9-2 2v14c0 1.1.9 2 2 2h14c1.1 0 2-.9 2-2V5c0-1.1-.9-2-2-2zM9 17H7v-7h2v7zm4 0h-2V7h2v10zm4 0h-2v-4h2v4z\"/>\n",
              "    </g>\n",
              "</svg>\n",
              "  </button>\n",
              "\n",
              "<style>\n",
              "  .colab-df-quickchart {\n",
              "      --bg-color: #E8F0FE;\n",
              "      --fill-color: #1967D2;\n",
              "      --hover-bg-color: #E2EBFA;\n",
              "      --hover-fill-color: #174EA6;\n",
              "      --disabled-fill-color: #AAA;\n",
              "      --disabled-bg-color: #DDD;\n",
              "  }\n",
              "\n",
              "  [theme=dark] .colab-df-quickchart {\n",
              "      --bg-color: #3B4455;\n",
              "      --fill-color: #D2E3FC;\n",
              "      --hover-bg-color: #434B5C;\n",
              "      --hover-fill-color: #FFFFFF;\n",
              "      --disabled-bg-color: #3B4455;\n",
              "      --disabled-fill-color: #666;\n",
              "  }\n",
              "\n",
              "  .colab-df-quickchart {\n",
              "    background-color: var(--bg-color);\n",
              "    border: none;\n",
              "    border-radius: 50%;\n",
              "    cursor: pointer;\n",
              "    display: none;\n",
              "    fill: var(--fill-color);\n",
              "    height: 32px;\n",
              "    padding: 0;\n",
              "    width: 32px;\n",
              "  }\n",
              "\n",
              "  .colab-df-quickchart:hover {\n",
              "    background-color: var(--hover-bg-color);\n",
              "    box-shadow: 0 1px 2px rgba(60, 64, 67, 0.3), 0 1px 3px 1px rgba(60, 64, 67, 0.15);\n",
              "    fill: var(--button-hover-fill-color);\n",
              "  }\n",
              "\n",
              "  .colab-df-quickchart-complete:disabled,\n",
              "  .colab-df-quickchart-complete:disabled:hover {\n",
              "    background-color: var(--disabled-bg-color);\n",
              "    fill: var(--disabled-fill-color);\n",
              "    box-shadow: none;\n",
              "  }\n",
              "\n",
              "  .colab-df-spinner {\n",
              "    border: 2px solid var(--fill-color);\n",
              "    border-color: transparent;\n",
              "    border-bottom-color: var(--fill-color);\n",
              "    animation:\n",
              "      spin 1s steps(1) infinite;\n",
              "  }\n",
              "\n",
              "  @keyframes spin {\n",
              "    0% {\n",
              "      border-color: transparent;\n",
              "      border-bottom-color: var(--fill-color);\n",
              "      border-left-color: var(--fill-color);\n",
              "    }\n",
              "    20% {\n",
              "      border-color: transparent;\n",
              "      border-left-color: var(--fill-color);\n",
              "      border-top-color: var(--fill-color);\n",
              "    }\n",
              "    30% {\n",
              "      border-color: transparent;\n",
              "      border-left-color: var(--fill-color);\n",
              "      border-top-color: var(--fill-color);\n",
              "      border-right-color: var(--fill-color);\n",
              "    }\n",
              "    40% {\n",
              "      border-color: transparent;\n",
              "      border-right-color: var(--fill-color);\n",
              "      border-top-color: var(--fill-color);\n",
              "    }\n",
              "    60% {\n",
              "      border-color: transparent;\n",
              "      border-right-color: var(--fill-color);\n",
              "    }\n",
              "    80% {\n",
              "      border-color: transparent;\n",
              "      border-right-color: var(--fill-color);\n",
              "      border-bottom-color: var(--fill-color);\n",
              "    }\n",
              "    90% {\n",
              "      border-color: transparent;\n",
              "      border-bottom-color: var(--fill-color);\n",
              "    }\n",
              "  }\n",
              "</style>\n",
              "\n",
              "  <script>\n",
              "    async function quickchart(key) {\n",
              "      const quickchartButtonEl =\n",
              "        document.querySelector('#' + key + ' button');\n",
              "      quickchartButtonEl.disabled = true;  // To prevent multiple clicks.\n",
              "      quickchartButtonEl.classList.add('colab-df-spinner');\n",
              "      try {\n",
              "        const charts = await google.colab.kernel.invokeFunction(\n",
              "            'suggestCharts', [key], {});\n",
              "      } catch (error) {\n",
              "        console.error('Error during call to suggestCharts:', error);\n",
              "      }\n",
              "      quickchartButtonEl.classList.remove('colab-df-spinner');\n",
              "      quickchartButtonEl.classList.add('colab-df-quickchart-complete');\n",
              "    }\n",
              "    (() => {\n",
              "      let quickchartButtonEl =\n",
              "        document.querySelector('#df-42ae6c61-a00a-47b1-bc69-b7a5e0d33602 button');\n",
              "      quickchartButtonEl.style.display =\n",
              "        google.colab.kernel.accessAllowed ? 'block' : 'none';\n",
              "    })();\n",
              "  </script>\n",
              "</div>\n",
              "\n",
              "  <div id=\"id_b808405d-68b1-4a1f-857d-81bec6966dfd\">\n",
              "    <style>\n",
              "      .colab-df-generate {\n",
              "        background-color: #E8F0FE;\n",
              "        border: none;\n",
              "        border-radius: 50%;\n",
              "        cursor: pointer;\n",
              "        display: none;\n",
              "        fill: #1967D2;\n",
              "        height: 32px;\n",
              "        padding: 0 0 0 0;\n",
              "        width: 32px;\n",
              "      }\n",
              "\n",
              "      .colab-df-generate:hover {\n",
              "        background-color: #E2EBFA;\n",
              "        box-shadow: 0px 1px 2px rgba(60, 64, 67, 0.3), 0px 1px 3px 1px rgba(60, 64, 67, 0.15);\n",
              "        fill: #174EA6;\n",
              "      }\n",
              "\n",
              "      [theme=dark] .colab-df-generate {\n",
              "        background-color: #3B4455;\n",
              "        fill: #D2E3FC;\n",
              "      }\n",
              "\n",
              "      [theme=dark] .colab-df-generate:hover {\n",
              "        background-color: #434B5C;\n",
              "        box-shadow: 0px 1px 3px 1px rgba(0, 0, 0, 0.15);\n",
              "        filter: drop-shadow(0px 1px 2px rgba(0, 0, 0, 0.3));\n",
              "        fill: #FFFFFF;\n",
              "      }\n",
              "    </style>\n",
              "    <button class=\"colab-df-generate\" onclick=\"generateWithVariable('df_subset')\"\n",
              "            title=\"Generate code using this dataframe.\"\n",
              "            style=\"display:none;\">\n",
              "\n",
              "  <svg xmlns=\"http://www.w3.org/2000/svg\" height=\"24px\"viewBox=\"0 0 24 24\"\n",
              "       width=\"24px\">\n",
              "    <path d=\"M7,19H8.4L18.45,9,17,7.55,7,17.6ZM5,21V16.75L18.45,3.32a2,2,0,0,1,2.83,0l1.4,1.43a1.91,1.91,0,0,1,.58,1.4,1.91,1.91,0,0,1-.58,1.4L9.25,21ZM18.45,9,17,7.55Zm-12,3A5.31,5.31,0,0,0,4.9,8.1,5.31,5.31,0,0,0,1,6.5,5.31,5.31,0,0,0,4.9,4.9,5.31,5.31,0,0,0,6.5,1,5.31,5.31,0,0,0,8.1,4.9,5.31,5.31,0,0,0,12,6.5,5.46,5.46,0,0,0,6.5,12Z\"/>\n",
              "  </svg>\n",
              "    </button>\n",
              "    <script>\n",
              "      (() => {\n",
              "      const buttonEl =\n",
              "        document.querySelector('#id_b808405d-68b1-4a1f-857d-81bec6966dfd button.colab-df-generate');\n",
              "      buttonEl.style.display =\n",
              "        google.colab.kernel.accessAllowed ? 'block' : 'none';\n",
              "\n",
              "      buttonEl.onclick = () => {\n",
              "        google.colab.notebook.generateWithVariable('df_subset');\n",
              "      }\n",
              "      })();\n",
              "    </script>\n",
              "  </div>\n",
              "\n",
              "    </div>\n",
              "  </div>\n"
            ],
            "application/vnd.google.colaboratory.intrinsic+json": {
              "type": "dataframe",
              "variable_name": "df_subset",
              "summary": "{\n  \"name\": \"df_subset\",\n  \"rows\": 200,\n  \"fields\": [\n    {\n      \"column\": \"alx\",\n      \"properties\": {\n        \"dtype\": \"number\",\n        \"std\": 0.11257382812020825,\n        \"min\": 1.9891,\n        \"max\": 2.5519,\n        \"num_unique_values\": 189,\n        \"samples\": [\n          2.1828,\n          2.2466,\n          2.4091\n        ],\n        \"semantic_type\": \"\",\n        \"description\": \"\"\n      }\n    },\n    {\n      \"column\": \"aly\",\n      \"properties\": {\n        \"dtype\": \"number\",\n        \"std\": 0.09617630298587151,\n        \"min\": -9.9658,\n        \"max\": -9.3294,\n        \"num_unique_values\": 180,\n        \"samples\": [\n          -9.6503,\n          -9.5405,\n          -9.5187\n        ],\n        \"semantic_type\": \"\",\n        \"description\": \"\"\n      }\n    },\n    {\n      \"column\": \"alz\",\n      \"properties\": {\n        \"dtype\": \"number\",\n        \"std\": 0.09761259391673427,\n        \"min\": 0.27599,\n        \"max\": 0.79194,\n        \"num_unique_values\": 197,\n        \"samples\": [\n          0.37273,\n          0.6203,\n          0.50232\n        ],\n        \"semantic_type\": \"\",\n        \"description\": \"\"\n      }\n    },\n    {\n      \"column\": \"glx\",\n      \"properties\": {\n        \"dtype\": \"number\",\n        \"std\": 0.010113223949526,\n        \"min\": -0.3729099999999999,\n        \"max\": -0.32839,\n        \"num_unique_values\": 22,\n        \"samples\": [\n          -0.34508,\n          -0.3729099999999999,\n          -0.33952\n        ],\n        \"semantic_type\": \"\",\n        \"description\": \"\"\n      }\n    },\n    {\n      \"column\": \"gly\",\n      \"properties\": {\n        \"dtype\": \"number\",\n        \"std\": 0.007999464303672372,\n        \"min\": -0.80113,\n        \"max\": -0.76548,\n        \"num_unique_values\": 18,\n        \"samples\": [\n          -0.78049,\n          -0.79362,\n          -0.77674\n        ],\n        \"semantic_type\": \"\",\n        \"description\": \"\"\n      }\n    },\n    {\n      \"column\": \"glz\",\n      \"properties\": {\n        \"dtype\": \"number\",\n        \"std\": 0.008243860632503479,\n        \"min\": 0.34578,\n        \"max\": 0.3831,\n        \"num_unique_values\": 17,\n        \"samples\": [\n          0.36149,\n          0.36935,\n          0.35167\n        ],\n        \"semantic_type\": \"\",\n        \"description\": \"\"\n      }\n    },\n    {\n      \"column\": \"arx\",\n      \"properties\": {\n        \"dtype\": \"number\",\n        \"std\": 0.2311491272814259,\n        \"min\": -4.0132,\n        \"max\": -2.3705,\n        \"num_unique_values\": 198,\n        \"samples\": [\n          -2.9826,\n          -3.1248,\n          -2.47\n        ],\n        \"semantic_type\": \"\",\n        \"description\": \"\"\n      }\n    },\n    {\n      \"column\": \"ary\",\n      \"properties\": {\n        \"dtype\": \"number\",\n        \"std\": 0.10530207330800669,\n        \"min\": -9.4989,\n        \"max\": -8.9366,\n        \"num_unique_values\": 186,\n        \"samples\": [\n          -9.1671,\n          -9.0478,\n          -9.1469\n        ],\n        \"semantic_type\": \"\",\n        \"description\": \"\"\n      }\n    },\n    {\n      \"column\": \"arz\",\n      \"properties\": {\n        \"dtype\": \"number\",\n        \"std\": 0.15194239668040294,\n        \"min\": 0.85693,\n        \"max\": 1.8395,\n        \"num_unique_values\": 186,\n        \"samples\": [\n          1.2916,\n          1.2247,\n          1.3135\n        ],\n        \"semantic_type\": \"\",\n        \"description\": \"\"\n      }\n    },\n    {\n      \"column\": \"grx\",\n      \"properties\": {\n        \"dtype\": \"number\",\n        \"std\": 0.011957189962486793,\n        \"min\": -0.9,\n        \"max\": -0.8392200000000001,\n        \"num_unique_values\": 20,\n        \"samples\": [\n          -0.86667,\n          -0.8647100000000001,\n          -0.89804\n        ],\n        \"semantic_type\": \"\",\n        \"description\": \"\"\n      }\n    },\n    {\n      \"column\": \"gry\",\n      \"properties\": {\n        \"dtype\": \"number\",\n        \"std\": 0.016102169204971352,\n        \"min\": -0.67762,\n        \"max\": -0.57906,\n        \"num_unique_values\": 22,\n        \"samples\": [\n          -0.63039,\n          -0.61602,\n          -0.6119100000000001\n        ],\n        \"semantic_type\": \"\",\n        \"description\": \"\"\n      }\n    },\n    {\n      \"column\": \"grz\",\n      \"properties\": {\n        \"dtype\": \"number\",\n        \"std\": 0.014816889183304514,\n        \"min\": 0.056034,\n        \"max\": 0.13793,\n        \"num_unique_values\": 20,\n        \"samples\": [\n          0.10345,\n          0.11638,\n          0.13362\n        ],\n        \"semantic_type\": \"\",\n        \"description\": \"\"\n      }\n    },\n    {\n      \"column\": \"Activity\",\n      \"properties\": {\n        \"dtype\": \"number\",\n        \"std\": 0,\n        \"min\": 0,\n        \"max\": 0,\n        \"num_unique_values\": 1,\n        \"samples\": [\n          0\n        ],\n        \"semantic_type\": \"\",\n        \"description\": \"\"\n      }\n    },\n    {\n      \"column\": \"subject_encoded\",\n      \"properties\": {\n        \"dtype\": \"number\",\n        \"std\": 0,\n        \"min\": 0,\n        \"max\": 0,\n        \"num_unique_values\": 1,\n        \"samples\": [\n          0\n        ],\n        \"semantic_type\": \"\",\n        \"description\": \"\"\n      }\n    }\n  ]\n}"
            }
          },
          "metadata": {},
          "execution_count": 4
        }
      ]
    },
    {
      "cell_type": "code",
      "source": [
        "import seaborn as sns\n",
        "sns.heatmap(df_subset)"
      ],
      "metadata": {
        "id": "qxfCbfNTly3Y",
        "colab": {
          "base_uri": "https://localhost:8080/",
          "height": 556
        },
        "outputId": "ccb3ea71-896d-4dbd-c6dd-53cf67770347"
      },
      "execution_count": 5,
      "outputs": [
        {
          "output_type": "execute_result",
          "data": {
            "text/plain": [
              "<Axes: >"
            ]
          },
          "metadata": {},
          "execution_count": 5
        },
        {
          "output_type": "display_data",
          "data": {
            "text/plain": [
              "<Figure size 640x480 with 2 Axes>"
            ],
            "image/png": "[encoded data removed]"
          },
          "metadata": {}
        }
      ]
    },
    {
      "cell_type": "code",
      "source": [
        "#Visualization of sample data points\n",
        "print(\"Sample data points:\")\n",
        "print(df.head())\n",
        "plt.figure(figsize=(10, 6))\n",
        "\n",
        "plt.plot(df['aly'], label='Feature 1')\n",
        "plt.plot(df['ary'], label='Feature 2')\n",
        "\n",
        "plt.title('Sample Data Points')\n",
        "plt.xlabel('Data Points')\n",
        "plt.ylabel('Values')\n",
        "plt.legend()\n",
        "plt.grid(True)\n",
        "plt.show()"
      ],
      "metadata": {
        "id": "7M2IEIRhYGnV",
        "colab": {
          "base_uri": "https://localhost:8080/",
          "height": 842
        },
        "outputId": "adcc8cac-7356-4977-bb6a-0bda3625bf66"
      },
      "execution_count": 6,
      "outputs": [
        {
          "output_type": "stream",
          "name": "stdout",
          "text": [
            "Sample data points:\n",
            "      alx     aly      alz       glx      gly      glz     arx     ary  \\\n",
            "0  2.1849 -9.6967  0.63077  0.103900 -0.84053 -0.68762 -8.6499 -4.5781   \n",
            "1  2.3876 -9.5080  0.68389  0.085343 -0.83865 -0.68369 -8.6275 -4.3198   \n",
            "2  2.4086 -9.5674  0.68113  0.085343 -0.83865 -0.68369 -8.5055 -4.2772   \n",
            "3  2.1814 -9.4301  0.55031  0.085343 -0.83865 -0.68369 -8.6279 -4.3163   \n",
            "4  2.4173 -9.3889  0.71098  0.085343 -0.83865 -0.68369 -8.7008 -4.1459   \n",
            "\n",
            "        arz      grx     gry       grz  Activity  subject_encoded  \n",
            "0  0.187760 -0.44902 -1.0103  0.034483         0                0  \n",
            "1  0.023595 -0.44902 -1.0103  0.034483         0                0  \n",
            "2  0.275720 -0.44902 -1.0103  0.034483         0                0  \n",
            "3  0.367520 -0.45686 -1.0082  0.025862         0                0  \n",
            "4  0.407290 -0.45686 -1.0082  0.025862         0                0  \n"
          ]
        },
        {
          "output_type": "stream",
          "name": "stderr",
          "text": [
            "/usr/local/lib/python3.10/dist-packages/IPython/core/pylabtools.py:151: UserWarning: Creating legend with loc=\"best\" can be slow with large amounts of data.\n",
            "  fig.canvas.print_figure(bytes_io, **kw)\n"
          ]
        },
        {
          "output_type": "display_data",
          "data": {
            "text/plain": [
              "<Figure size 1000x600 with 1 Axes>"
            ],
            "image/png": "[encoded data removed]"
          },
          "metadata": {}
        }
      ]
    },
    {
      "cell_type": "code",
      "source": [
        "# X = df.iloc[:,:-1]\n",
        "# y = df.iloc[:, -1]"
      ],
      "metadata": {
        "id": "m-SqMrtMYydB"
      },
      "execution_count": 7,
      "outputs": []
    },
    {
      "cell_type": "code",
      "source": [
        "# from sklearn.preprocessing import StandardScaler\n",
        "\n",
        "\n",
        "# X_train, X_test, y_train, y_test = train_test_split(X, y, test_size=0.2,shuffle = True, random_state=42)\n",
        "\n",
        "# X_train = np.asarray(X_train)\n",
        "# y_train = np.asarray(y_train)\n",
        "# X_test = np.asarray(X_test)\n",
        "# y_test = np.asarray(y_test)\n",
        "\n",
        "# scaler = StandardScaler()\n",
        "# X_train_normalized = scaler.fit_transform(X_train)\n",
        "# X_test_normalized = scaler.transform(X_test)"
      ],
      "metadata": {
        "id": "rvBw1WPDaTH_"
      },
      "execution_count": 8,
      "outputs": []
    },
    {
      "cell_type": "code",
      "source": [
        "# X = df.iloc[:,:-1]\n",
        "# y = df.iloc[:, -1]"
      ],
      "metadata": {
        "id": "xIpJkxYeNyG5"
      },
      "execution_count": 9,
      "outputs": []
    },
    {
      "cell_type": "code",
      "source": [
        "X.head()"
      ],
      "metadata": {
        "id": "zybfG84kf6rH",
        "colab": {
          "base_uri": "https://localhost:8080/",
          "height": 206
        },
        "outputId": "5b69fa43-3c09-4678-999d-ac7f4343cb46"
      },
      "execution_count": 10,
      "outputs": [
        {
          "output_type": "execute_result",
          "data": {
            "text/plain": [
              "             alx      aly     alz      glx      gly      glz      arx  \\\n",
              "637239   4.12310  -8.1374  1.1135 -0.30612 -0.80113  0.57957   1.6911   \n",
              "962780   8.64860 -19.1890  3.8354 -0.28757 -0.30019 -1.08450  -5.8587   \n",
              "834341   0.89757  -9.6380  1.5479 -0.19666 -0.78236 -0.68566   5.2402   \n",
              "627470   0.59739  -5.2040 -1.5876  0.34508 -0.81238 -0.48330  -5.4903   \n",
              "265172  19.70000 -16.4820 -3.6271  0.55102 -0.54972  0.50884  13.9860   \n",
              "\n",
              "            ary      arz      grx      gry      grz  subject_encoded  \n",
              "637239  -5.9107  4.93360 -0.29804 -0.10267  1.08410                5  \n",
              "962780 -12.3920  0.75538  0.56471 -0.91992  0.46121                8  \n",
              "834341  -8.7376  3.24020 -0.15294 -1.00620 -0.28448                7  \n",
              "627470  -6.3089  4.11160 -0.77647  0.13347  0.78233                5  \n",
              "265172  -3.0919 -8.18580 -0.31176  0.19918  1.10130                2  "
            ],
            "text/html": [
              "\n",
              "  <div id=\"df-2b87ed8b-187b-4ffd-836c-6438ab9a9a89\" class=\"colab-df-container\">\n",
              "    <div>\n",
              "<style scoped>\n",
              "    .dataframe tbody tr th:only-of-type {\n",
              "        vertical-align: middle;\n",
              "    }\n",
              "\n",
              "    .dataframe tbody tr th {\n",
              "        vertical-align: top;\n",
              "    }\n",
              "\n",
              "    .dataframe thead th {\n",
              "        text-align: right;\n",
              "    }\n",
              "</style>\n",
              "<table border=\"1\" class=\"dataframe\">\n",
              "  <thead>\n",
              "    <tr style=\"text-align: right;\">\n",
              "      <th></th>\n",
              "      <th>alx</th>\n",
              "      <th>aly</th>\n",
              "      <th>alz</th>\n",
              "      <th>glx</th>\n",
              "      <th>gly</th>\n",
              "      <th>glz</th>\n",
              "      <th>arx</th>\n",
              "      <th>ary</th>\n",
              "      <th>arz</th>\n",
              "      <th>grx</th>\n",
              "      <th>gry</th>\n",
              "      <th>grz</th>\n",
              "      <th>subject_encoded</th>\n",
              "    </tr>\n",
              "  </thead>\n",
              "  <tbody>\n",
              "    <tr>\n",
              "      <th>637239</th>\n",
              "      <td>4.12310</td>\n",
              "      <td>-8.1374</td>\n",
              "      <td>1.1135</td>\n",
              "      <td>-0.30612</td>\n",
              "      <td>-0.80113</td>\n",
              "      <td>0.57957</td>\n",
              "      <td>1.6911</td>\n",
              "      <td>-5.9107</td>\n",
              "      <td>4.93360</td>\n",
              "      <td>-0.29804</td>\n",
              "      <td>-0.10267</td>\n",
              "      <td>1.08410</td>\n",
              "      <td>5</td>\n",
              "    </tr>\n",
              "    <tr>\n",
              "      <th>962780</th>\n",
              "      <td>8.64860</td>\n",
              "      <td>-19.1890</td>\n",
              "      <td>3.8354</td>\n",
              "      <td>-0.28757</td>\n",
              "      <td>-0.30019</td>\n",
              "      <td>-1.08450</td>\n",
              "      <td>-5.8587</td>\n",
              "      <td>-12.3920</td>\n",
              "      <td>0.75538</td>\n",
              "      <td>0.56471</td>\n",
              "      <td>-0.91992</td>\n",
              "      <td>0.46121</td>\n",
              "      <td>8</td>\n",
              "    </tr>\n",
              "    <tr>\n",
              "      <th>834341</th>\n",
              "      <td>0.89757</td>\n",
              "      <td>-9.6380</td>\n",
              "      <td>1.5479</td>\n",
              "      <td>-0.19666</td>\n",
              "      <td>-0.78236</td>\n",
              "      <td>-0.68566</td>\n",
              "      <td>5.2402</td>\n",
              "      <td>-8.7376</td>\n",
              "      <td>3.24020</td>\n",
              "      <td>-0.15294</td>\n",
              "      <td>-1.00620</td>\n",
              "      <td>-0.28448</td>\n",
              "      <td>7</td>\n",
              "    </tr>\n",
              "    <tr>\n",
              "      <th>627470</th>\n",
              "      <td>0.59739</td>\n",
              "      <td>-5.2040</td>\n",
              "      <td>-1.5876</td>\n",
              "      <td>0.34508</td>\n",
              "      <td>-0.81238</td>\n",
              "      <td>-0.48330</td>\n",
              "      <td>-5.4903</td>\n",
              "      <td>-6.3089</td>\n",
              "      <td>4.11160</td>\n",
              "      <td>-0.77647</td>\n",
              "      <td>0.13347</td>\n",
              "      <td>0.78233</td>\n",
              "      <td>5</td>\n",
              "    </tr>\n",
              "    <tr>\n",
              "      <th>265172</th>\n",
              "      <td>19.70000</td>\n",
              "      <td>-16.4820</td>\n",
              "      <td>-3.6271</td>\n",
              "      <td>0.55102</td>\n",
              "      <td>-0.54972</td>\n",
              "      <td>0.50884</td>\n",
              "      <td>13.9860</td>\n",
              "      <td>-3.0919</td>\n",
              "      <td>-8.18580</td>\n",
              "      <td>-0.31176</td>\n",
              "      <td>0.19918</td>\n",
              "      <td>1.10130</td>\n",
              "      <td>2</td>\n",
              "    </tr>\n",
              "  </tbody>\n",
              "</table>\n",
              "</div>\n",
              "    <div class=\"colab-df-buttons\">\n",
              "\n",
              "  <div class=\"colab-df-container\">\n",
              "    <button class=\"colab-df-convert\" onclick=\"convertToInteractive('df-2b87ed8b-187b-4ffd-836c-6438ab9a9a89')\"\n",
              "            title=\"Convert this dataframe to an interactive table.\"\n",
              "            style=\"display:none;\">\n",
              "\n",
              "  <svg xmlns=\"http://www.w3.org/2000/svg\" height=\"24px\" viewBox=\"0 -960 960 960\">\n",
              "    <path d=\"M120-120v-720h720v720H120Zm60-500h600v-160H180v160Zm220 220h160v-160H400v160Zm0 220h160v-160H400v160ZM180-400h160v-160H180v160Zm440 0h160v-160H620v160ZM180-180h160v-160H180v160Zm440 0h160v-160H620v160Z\"/>\n",
              "  </svg>\n",
              "    </button>\n",
              "\n",
              "  <style>\n",
              "    .colab-df-container {\n",
              "      display:flex;\n",
              "      gap: 12px;\n",
              "    }\n",
              "\n",
              "    .colab-df-convert {\n",
              "      background-color: #E8F0FE;\n",
              "      border: none;\n",
              "      border-radius: 50%;\n",
              "      cursor: pointer;\n",
              "      display: none;\n",
              "      fill: #1967D2;\n",
              "      height: 32px;\n",
              "      padding: 0 0 0 0;\n",
              "      width: 32px;\n",
              "    }\n",
              "\n",
              "    .colab-df-convert:hover {\n",
              "      background-color: #E2EBFA;\n",
              "      box-shadow: 0px 1px 2px rgba(60, 64, 67, 0.3), 0px 1px 3px 1px rgba(60, 64, 67, 0.15);\n",
              "      fill: #174EA6;\n",
              "    }\n",
              "\n",
              "    .colab-df-buttons div {\n",
              "      margin-bottom: 4px;\n",
              "    }\n",
              "\n",
              "    [theme=dark] .colab-df-convert {\n",
              "      background-color: #3B4455;\n",
              "      fill: #D2E3FC;\n",
              "    }\n",
              "\n",
              "    [theme=dark] .colab-df-convert:hover {\n",
              "      background-color: #434B5C;\n",
              "      box-shadow: 0px 1px 3px 1px rgba(0, 0, 0, 0.15);\n",
              "      filter: drop-shadow(0px 1px 2px rgba(0, 0, 0, 0.3));\n",
              "      fill: #FFFFFF;\n",
              "    }\n",
              "  </style>\n",
              "\n",
              "    <script>\n",
              "      const buttonEl =\n",
              "        document.querySelector('#df-2b87ed8b-187b-4ffd-836c-6438ab9a9a89 button.colab-df-convert');\n",
              "      buttonEl.style.display =\n",
              "        google.colab.kernel.accessAllowed ? 'block' : 'none';\n",
              "\n",
              "      async function convertToInteractive(key) {\n",
              "        const element = document.querySelector('#df-2b87ed8b-187b-4ffd-836c-6438ab9a9a89');\n",
              "        const dataTable =\n",
              "          await google.colab.kernel.invokeFunction('convertToInteractive',\n",
              "                                                    [key], {});\n",
              "        if (!dataTable) return;\n",
              "\n",
              "        const docLinkHtml = 'Like what you see? Visit the ' +\n",
              "          '<a target=\"_blank\" href=https://colab.research.google.com/notebooks/data_table.ipynb>data table notebook</a>'\n",
              "          + ' to learn more about interactive tables.';\n",
              "        element.innerHTML = '';\n",
              "        dataTable['output_type'] = 'display_data';\n",
              "        await google.colab.output.renderOutput(dataTable, element);\n",
              "        const docLink = document.createElement('div');\n",
              "        docLink.innerHTML = docLinkHtml;\n",
              "        element.appendChild(docLink);\n",
              "      }\n",
              "    </script>\n",
              "  </div>\n",
              "\n",
              "\n",
              "<div id=\"df-7055365b-71ad-4d0e-99d5-954c7c6caac0\">\n",
              "  <button class=\"colab-df-quickchart\" onclick=\"quickchart('df-7055365b-71ad-4d0e-99d5-954c7c6caac0')\"\n",
              "            title=\"Suggest charts\"\n",
              "            style=\"display:none;\">\n",
              "\n",
              "<svg xmlns=\"http://www.w3.org/2000/svg\" height=\"24px\"viewBox=\"0 0 24 24\"\n",
              "     width=\"24px\">\n",
              "    <g>\n",
              "        <path d=\"M19 3H5c-1.1 0-2 .9-2 2v14c0 1.1.9 2 2 2h14c1.1 0 2-.9 2-2V5c0-1.1-.9-2-2-2zM9 17H7v-7h2v7zm4 0h-2V7h2v10zm4 0h-2v-4h2v4z\"/>\n",
              "    </g>\n",
              "</svg>\n",
              "  </button>\n",
              "\n",
              "<style>\n",
              "  .colab-df-quickchart {\n",
              "      --bg-color: #E8F0FE;\n",
              "      --fill-color: #1967D2;\n",
              "      --hover-bg-color: #E2EBFA;\n",
              "      --hover-fill-color: #174EA6;\n",
              "      --disabled-fill-color: #AAA;\n",
              "      --disabled-bg-color: #DDD;\n",
              "  }\n",
              "\n",
              "  [theme=dark] .colab-df-quickchart {\n",
              "      --bg-color: #3B4455;\n",
              "      --fill-color: #D2E3FC;\n",
              "      --hover-bg-color: #434B5C;\n",
              "      --hover-fill-color: #FFFFFF;\n",
              "      --disabled-bg-color: #3B4455;\n",
              "      --disabled-fill-color: #666;\n",
              "  }\n",
              "\n",
              "  .colab-df-quickchart {\n",
              "    background-color: var(--bg-color);\n",
              "    border: none;\n",
              "    border-radius: 50%;\n",
              "    cursor: pointer;\n",
              "    display: none;\n",
              "    fill: var(--fill-color);\n",
              "    height: 32px;\n",
              "    padding: 0;\n",
              "    width: 32px;\n",
              "  }\n",
              "\n",
              "  .colab-df-quickchart:hover {\n",
              "    background-color: var(--hover-bg-color);\n",
              "    box-shadow: 0 1px 2px rgba(60, 64, 67, 0.3), 0 1px 3px 1px rgba(60, 64, 67, 0.15);\n",
              "    fill: var(--button-hover-fill-color);\n",
              "  }\n",
              "\n",
              "  .colab-df-quickchart-complete:disabled,\n",
              "  .colab-df-quickchart-complete:disabled:hover {\n",
              "    background-color: var(--disabled-bg-color);\n",
              "    fill: var(--disabled-fill-color);\n",
              "    box-shadow: none;\n",
              "  }\n",
              "\n",
              "  .colab-df-spinner {\n",
              "    border: 2px solid var(--fill-color);\n",
              "    border-color: transparent;\n",
              "    border-bottom-color: var(--fill-color);\n",
              "    animation:\n",
              "      spin 1s steps(1) infinite;\n",
              "  }\n",
              "\n",
              "  @keyframes spin {\n",
              "    0% {\n",
              "      border-color: transparent;\n",
              "      border-bottom-color: var(--fill-color);\n",
              "      border-left-color: var(--fill-color);\n",
              "    }\n",
              "    20% {\n",
              "      border-color: transparent;\n",
              "      border-left-color: var(--fill-color);\n",
              "      border-top-color: var(--fill-color);\n",
              "    }\n",
              "    30% {\n",
              "      border-color: transparent;\n",
              "      border-left-color: var(--fill-color);\n",
              "      border-top-color: var(--fill-color);\n",
              "      border-right-color: var(--fill-color);\n",
              "    }\n",
              "    40% {\n",
              "      border-color: transparent;\n",
              "      border-right-color: var(--fill-color);\n",
              "      border-top-color: var(--fill-color);\n",
              "    }\n",
              "    60% {\n",
              "      border-color: transparent;\n",
              "      border-right-color: var(--fill-color);\n",
              "    }\n",
              "    80% {\n",
              "      border-color: transparent;\n",
              "      border-right-color: var(--fill-color);\n",
              "      border-bottom-color: var(--fill-color);\n",
              "    }\n",
              "    90% {\n",
              "      border-color: transparent;\n",
              "      border-bottom-color: var(--fill-color);\n",
              "    }\n",
              "  }\n",
              "</style>\n",
              "\n",
              "  <script>\n",
              "    async function quickchart(key) {\n",
              "      const quickchartButtonEl =\n",
              "        document.querySelector('#' + key + ' button');\n",
              "      quickchartButtonEl.disabled = true;  // To prevent multiple clicks.\n",
              "      quickchartButtonEl.classList.add('colab-df-spinner');\n",
              "      try {\n",
              "        const charts = await google.colab.kernel.invokeFunction(\n",
              "            'suggestCharts', [key], {});\n",
              "      } catch (error) {\n",
              "        console.error('Error during call to suggestCharts:', error);\n",
              "      }\n",
              "      quickchartButtonEl.classList.remove('colab-df-spinner');\n",
              "      quickchartButtonEl.classList.add('colab-df-quickchart-complete');\n",
              "    }\n",
              "    (() => {\n",
              "      let quickchartButtonEl =\n",
              "        document.querySelector('#df-7055365b-71ad-4d0e-99d5-954c7c6caac0 button');\n",
              "      quickchartButtonEl.style.display =\n",
              "        google.colab.kernel.accessAllowed ? 'block' : 'none';\n",
              "    })();\n",
              "  </script>\n",
              "</div>\n",
              "\n",
              "    </div>\n",
              "  </div>\n"
            ],
            "application/vnd.google.colaboratory.intrinsic+json": {
              "type": "dataframe",
              "variable_name": "X",
              "summary": "{\n  \"name\": \"X\",\n  \"rows\": 10000,\n  \"fields\": [\n    {\n      \"column\": \"alx\",\n      \"properties\": {\n        \"dtype\": \"number\",\n        \"std\": 3.825861066182588,\n        \"min\": -22.079,\n        \"max\": 20.013,\n        \"num_unique_values\": 9589,\n        \"samples\": [\n          4.4156,\n          3.3746,\n          0.5067699999999999\n        ],\n        \"semantic_type\": \"\",\n        \"description\": \"\"\n      }\n    },\n    {\n      \"column\": \"aly\",\n      \"properties\": {\n        \"dtype\": \"number\",\n        \"std\": 4.237201969014408,\n        \"min\": -19.558,\n        \"max\": 21.045,\n        \"num_unique_values\": 8038,\n        \"samples\": [\n          -9.2392,\n          -10.115,\n          -15.248\n        ],\n        \"semantic_type\": \"\",\n        \"description\": \"\"\n      }\n    },\n    {\n      \"column\": \"alz\",\n      \"properties\": {\n        \"dtype\": \"number\",\n        \"std\": 5.4520528820624135,\n        \"min\": -19.312,\n        \"max\": 24.768,\n        \"num_unique_values\": 9729,\n        \"samples\": [\n          -8.1108,\n          0.44514,\n          0.32625\n        ],\n        \"semantic_type\": \"\",\n        \"description\": \"\"\n      }\n    },\n    {\n      \"column\": \"glx\",\n      \"properties\": {\n        \"dtype\": \"number\",\n        \"std\": 0.4866520625618663,\n        \"min\": -1.8831,\n        \"max\": 1.4991,\n        \"num_unique_values\": 1064,\n        \"samples\": [\n          0.45826,\n          -0.8534299999999999,\n          0.3766199999999999\n        ],\n        \"semantic_type\": \"\",\n        \"description\": \"\"\n      }\n    },\n    {\n      \"column\": \"gly\",\n      \"properties\": {\n        \"dtype\": \"number\",\n        \"std\": 0.3629592385097847,\n        \"min\": -7.7899,\n        \"max\": 1.6623,\n        \"num_unique_values\": 916,\n        \"samples\": [\n          -1.5197,\n          0.52533,\n          -1.7111\n        ],\n        \"semantic_type\": \"\",\n        \"description\": \"\"\n      }\n    },\n    {\n      \"column\": \"glz\",\n      \"properties\": {\n        \"dtype\": \"number\",\n        \"std\": 0.5491167676108081,\n        \"min\": -2.3536,\n        \"max\": 1.888,\n        \"num_unique_values\": 1143,\n        \"samples\": [\n          -0.28684,\n          0.2023599999999999,\n          0.26916\n        ],\n        \"semantic_type\": \"\",\n        \"description\": \"\"\n      }\n    },\n    {\n      \"column\": \"arx\",\n      \"properties\": {\n        \"dtype\": \"number\",\n        \"std\": 4.81792698329157,\n        \"min\": -22.114,\n        \"max\": 19.525,\n        \"num_unique_values\": 9636,\n        \"samples\": [\n          -3.2886,\n          -8.8285,\n          -9.347\n        ],\n        \"semantic_type\": \"\",\n        \"description\": \"\"\n      }\n    },\n    {\n      \"column\": \"ary\",\n      \"properties\": {\n        \"dtype\": \"number\",\n        \"std\": 5.8339783749604965,\n        \"min\": -18.932,\n        \"max\": 21.942,\n        \"num_unique_values\": 9400,\n        \"samples\": [\n          -1.3075,\n          -1.1737,\n          -1.3234\n        ],\n        \"semantic_type\": \"\",\n        \"description\": \"\"\n      }\n    },\n    {\n      \"column\": \"arz\",\n      \"properties\": {\n        \"dtype\": \"number\",\n        \"std\": 3.8753228224022718,\n        \"min\": -18.228,\n        \"max\": 24.864,\n        \"num_unique_values\": 9523,\n        \"samples\": [\n          -3.2116,\n          1.0612,\n          1.8439\n        ],\n        \"semantic_type\": \"\",\n        \"description\": \"\"\n      }\n    },\n    {\n      \"column\": \"grx\",\n      \"properties\": {\n        \"dtype\": \"number\",\n        \"std\": 0.5339202761846933,\n        \"min\": -8.3392,\n        \"max\": 1.3176,\n        \"num_unique_values\": 1167,\n        \"samples\": [\n          -0.72549,\n          0.72353,\n          -0.033333\n        ],\n        \"semantic_type\": \"\",\n        \"description\": \"\"\n      }\n    },\n    {\n      \"column\": \"gry\",\n      \"properties\": {\n        \"dtype\": \"number\",\n        \"std\": 0.5551630083872626,\n        \"min\": -2.692,\n        \"max\": 1.345,\n        \"num_unique_values\": 1178,\n        \"samples\": [\n          0.47433,\n          0.75975,\n          -0.99179\n        ],\n        \"semantic_type\": \"\",\n        \"description\": \"\"\n      }\n    },\n    {\n      \"column\": \"grz\",\n      \"properties\": {\n        \"dtype\": \"number\",\n        \"std\": 0.5660043529856686,\n        \"min\": -2.6897,\n        \"max\": 2.2026,\n        \"num_unique_values\": 1058,\n        \"samples\": [\n          1.0948,\n          -0.31681,\n          0.50216\n        ],\n        \"semantic_type\": \"\",\n        \"description\": \"\"\n      }\n    },\n    {\n      \"column\": \"subject_encoded\",\n      \"properties\": {\n        \"dtype\": \"number\",\n        \"std\": 2,\n        \"min\": 0,\n        \"max\": 9,\n        \"num_unique_values\": 10,\n        \"samples\": [\n          4,\n          8,\n          9\n        ],\n        \"semantic_type\": \"\",\n        \"description\": \"\"\n      }\n    }\n  ]\n}"
            }
          },
          "metadata": {},
          "execution_count": 10
        }
      ]
    },
    {
      "cell_type": "code",
      "source": [
        "y.head()"
      ],
      "metadata": {
        "id": "LK128zjJgLRD",
        "colab": {
          "base_uri": "https://localhost:8080/"
        },
        "outputId": "1040899f-2fc2-45d8-b6da-aaf559134d24"
      },
      "execution_count": 11,
      "outputs": [
        {
          "output_type": "execute_result",
          "data": {
            "text/plain": [
              "637239     0\n",
              "962780     0\n",
              "834341     0\n",
              "627470     0\n",
              "265172    11\n",
              "Name: Activity, dtype: int64"
            ]
          },
          "metadata": {},
          "execution_count": 11
        }
      ]
    },
    {
      "cell_type": "code",
      "source": [
        "df_no_duplicates = df.drop_duplicates()\n",
        "print(\"Original DataFrame shape:\", df.shape)\n",
        "print(\"DataFrame shape after removing duplicates:\", df_no_duplicates.shape)"
      ],
      "metadata": {
        "id": "LKu98m5XgRYH",
        "colab": {
          "base_uri": "https://localhost:8080/"
        },
        "outputId": "f94306c5-72ba-484b-f420-63c5f544512c"
      },
      "execution_count": 12,
      "outputs": [
        {
          "output_type": "stream",
          "name": "stdout",
          "text": [
            "Original DataFrame shape: (1215745, 14)\n",
            "DataFrame shape after removing duplicates: (1215745, 14)\n"
          ]
        }
      ]
    },
    {
      "cell_type": "code",
      "source": [
        "print (f\"training set size: {X_train.shape[0]} samples \\ntest set size: {X_test.shape[0]} samples \")"
      ],
      "metadata": {
        "id": "84P2oNGlgakO",
        "colab": {
          "base_uri": "https://localhost:8080/"
        },
        "outputId": "5284e3a2-6285-4055-fcaa-700e832c4dca"
      },
      "execution_count": 13,
      "outputs": [
        {
          "output_type": "stream",
          "name": "stdout",
          "text": [
            "training set size: 8000 samples \n",
            "test set size: 2000 samples \n"
          ]
        }
      ]
    },
    {
      "cell_type": "code",
      "source": [
        "from collections import Counter\n",
        "from sklearn.metrics import accuracy_score"
      ],
      "metadata": {
        "id": "l7yuzDxRgv2O"
      },
      "execution_count": 14,
      "outputs": []
    },
    {
      "cell_type": "code",
      "source": [
        "from sklearn.neighbors import KNeighborsClassifier\n",
        "from sklearn.model_selection import GridSearchCV\n",
        "knn = KNeighborsClassifier()\n",
        "knn_params = {'n_neighbors': [3, 5, 7], 'weights': ['uniform', 'distance']}\n",
        "grid_search_knn = GridSearchCV(knn, knn_params, cv=5)\n",
        "grid_search_knn.fit(X_train_normalized, y_train)"
      ],
      "metadata": {
        "id": "W34LSrslj3U9",
        "colab": {
          "base_uri": "https://localhost:8080/",
          "height": 118
        },
        "outputId": "5b6866e3-4bab-43b9-8822-05b7efc69ebd"
      },
      "execution_count": 15,
      "outputs": [
        {
          "output_type": "execute_result",
          "data": {
            "text/plain": [
              "GridSearchCV(cv=5, estimator=KNeighborsClassifier(),\n",
              "             param_grid={'n_neighbors': [3, 5, 7],\n",
              "                         'weights': ['uniform', 'distance']})"
            ],
            "text/html": [
              "<style>#sk-container-id-1 {color: black;background-color: white;}#sk-container-id-1 pre{padding: 0;}#sk-container-id-1 div.sk-toggleable {background-color: white;}#sk-container-id-1 label.sk-toggleable__label {cursor: pointer;display: block;width: 100%;margin-bottom: 0;padding: 0.3em;box-sizing: border-box;text-align: center;}#sk-container-id-1 label.sk-toggleable__label-arrow:before {content: \"▸\";float: left;margin-right: 0.25em;color: #696969;}#sk-container-id-1 label.sk-toggleable__label-arrow:hover:before {color: black;}#sk-container-id-1 div.sk-estimator:hover label.sk-toggleable__label-arrow:before {color: black;}#sk-container-id-1 div.sk-toggleable__content {max-height: 0;max-width: 0;overflow: hidden;text-align: left;background-color: #f0f8ff;}#sk-container-id-1 div.sk-toggleable__content pre {margin: 0.2em;color: black;border-radius: 0.25em;background-color: #f0f8ff;}#sk-container-id-1 input.sk-toggleable__control:checked~div.sk-toggleable__content {max-height: 200px;max-width: 100%;overflow: auto;}#sk-container-id-1 input.sk-toggleable__control:checked~label.sk-toggleable__label-arrow:before {content: \"▾\";}#sk-container-id-1 div.sk-estimator input.sk-toggleable__control:checked~label.sk-toggleable__label {background-color: #d4ebff;}#sk-container-id-1 div.sk-label input.sk-toggleable__control:checked~label.sk-toggleable__label {background-color: #d4ebff;}#sk-container-id-1 input.sk-hidden--visually {border: 0;clip: rect(1px 1px 1px 1px);clip: rect(1px, 1px, 1px, 1px);height: 1px;margin: -1px;overflow: hidden;padding: 0;position: absolute;width: 1px;}#sk-container-id-1 div.sk-estimator {font-family: monospace;background-color: #f0f8ff;border: 1px dotted black;border-radius: 0.25em;box-sizing: border-box;margin-bottom: 0.5em;}#sk-container-id-1 div.sk-estimator:hover {background-color: #d4ebff;}#sk-container-id-1 div.sk-parallel-item::after {content: \"\";width: 100%;border-bottom: 1px solid gray;flex-grow: 1;}#sk-container-id-1 div.sk-label:hover label.sk-toggleable__label {background-color: #d4ebff;}#sk-container-id-1 div.sk-serial::before {content: \"\";position: absolute;border-left: 1px solid gray;box-sizing: border-box;top: 0;bottom: 0;left: 50%;z-index: 0;}#sk-container-id-1 div.sk-serial {display: flex;flex-direction: column;align-items: center;background-color: white;padding-right: 0.2em;padding-left: 0.2em;position: relative;}#sk-container-id-1 div.sk-item {position: relative;z-index: 1;}#sk-container-id-1 div.sk-parallel {display: flex;align-items: stretch;justify-content: center;background-color: white;position: relative;}#sk-container-id-1 div.sk-item::before, #sk-container-id-1 div.sk-parallel-item::before {content: \"\";position: absolute;border-left: 1px solid gray;box-sizing: border-box;top: 0;bottom: 0;left: 50%;z-index: -1;}#sk-container-id-1 div.sk-parallel-item {display: flex;flex-direction: column;z-index: 1;position: relative;background-color: white;}#sk-container-id-1 div.sk-parallel-item:first-child::after {align-self: flex-end;width: 50%;}#sk-container-id-1 div.sk-parallel-item:last-child::after {align-self: flex-start;width: 50%;}#sk-container-id-1 div.sk-parallel-item:only-child::after {width: 0;}#sk-container-id-1 div.sk-dashed-wrapped {border: 1px dashed gray;margin: 0 0.4em 0.5em 0.4em;box-sizing: border-box;padding-bottom: 0.4em;background-color: white;}#sk-container-id-1 div.sk-label label {font-family: monospace;font-weight: bold;display: inline-block;line-height: 1.2em;}#sk-container-id-1 div.sk-label-container {text-align: center;}#sk-container-id-1 div.sk-container {/* jupyter's `normalize.less` sets `[hidden] { display: none; }` but bootstrap.min.css set `[hidden] { display: none !important; }` so we also need the `!important` here to be able to override the default hidden behavior on the sphinx rendered scikit-learn.org. See: https://github.com/scikit-learn/scikit-learn/issues/21755 */display: inline-block !important;position: relative;}#sk-container-id-1 div.sk-text-repr-fallback {display: none;}</style><div id=\"sk-container-id-1\" class=\"sk-top-container\"><div class=\"sk-text-repr-fallback\"><pre>GridSearchCV(cv=5, estimator=KNeighborsClassifier(),\n",
              "             param_grid={&#x27;n_neighbors&#x27;: [3, 5, 7],\n",
              "                         &#x27;weights&#x27;: [&#x27;uniform&#x27;, &#x27;distance&#x27;]})</pre><b>In a Jupyter environment, please rerun this cell to show the HTML representation or trust the notebook. <br />On GitHub, the HTML representation is unable to render, please try loading this page with nbviewer.org.</b></div><div class=\"sk-container\" hidden><div class=\"sk-item sk-dashed-wrapped\"><div class=\"sk-label-container\"><div class=\"sk-label sk-toggleable\"><input class=\"sk-toggleable__control sk-hidden--visually\" id=\"sk-estimator-id-1\" type=\"checkbox\" ><label for=\"sk-estimator-id-1\" class=\"sk-toggleable__label sk-toggleable__label-arrow\">GridSearchCV</label><div class=\"sk-toggleable__content\"><pre>GridSearchCV(cv=5, estimator=KNeighborsClassifier(),\n",
              "             param_grid={&#x27;n_neighbors&#x27;: [3, 5, 7],\n",
              "                         &#x27;weights&#x27;: [&#x27;uniform&#x27;, &#x27;distance&#x27;]})</pre></div></div></div><div class=\"sk-parallel\"><div class=\"sk-parallel-item\"><div class=\"sk-item\"><div class=\"sk-label-container\"><div class=\"sk-label sk-toggleable\"><input class=\"sk-toggleable__control sk-hidden--visually\" id=\"sk-estimator-id-2\" type=\"checkbox\" ><label for=\"sk-estimator-id-2\" class=\"sk-toggleable__label sk-toggleable__label-arrow\">estimator: KNeighborsClassifier</label><div class=\"sk-toggleable__content\"><pre>KNeighborsClassifier()</pre></div></div></div><div class=\"sk-serial\"><div class=\"sk-item\"><div class=\"sk-estimator sk-toggleable\"><input class=\"sk-toggleable__control sk-hidden--visually\" id=\"sk-estimator-id-3\" type=\"checkbox\" ><label for=\"sk-estimator-id-3\" class=\"sk-toggleable__label sk-toggleable__label-arrow\">KNeighborsClassifier</label><div class=\"sk-toggleable__content\"><pre>KNeighborsClassifier()</pre></div></div></div></div></div></div></div></div></div></div>"
            ]
          },
          "metadata": {},
          "execution_count": 15
        }
      ]
    },
    {
      "cell_type": "code",
      "source": [
        "best_knn = grid_search_knn.best_estimator_\n",
        "knn_y_pred = best_knn.predict(X_test_normalized)\n",
        "knn_accuracy = accuracy_score(y_test, knn_y_pred)"
      ],
      "metadata": {
        "id": "NVbTYq0pRFVQ"
      },
      "execution_count": 16,
      "outputs": []
    },
    {
      "cell_type": "code",
      "source": [
        "print(\"knn accuracy:\", knn_accuracy)"
      ],
      "metadata": {
        "colab": {
          "base_uri": "https://localhost:8080/"
        },
        "id": "CEXPOgAgFGD4",
        "outputId": "a3ca5b41-f176-45ed-adc8-812d1cfa2770"
      },
      "execution_count": 17,
      "outputs": [
        {
          "output_type": "stream",
          "name": "stdout",
          "text": [
            "knn accuracy: 0.824\n"
          ]
        }
      ]
    },
    {
      "cell_type": "markdown",
      "source": [],
      "metadata": {
        "id": "fYW5tCI6n27e"
      }
    },
    {
      "cell_type": "code",
      "source": [
        "from sklearn.svm import SVC\n",
        "from sklearn.model_selection import KFold\n",
        "y_train = y_train[:10000]\n",
        "X_train = X_train[:10000]\n",
        "c_values = [0.1 , 1 , 10]\n",
        "gamma_values = [0.01 , 0.1 , 1]\n",
        "crossvalidation = KFold(n_splits=10, random_state=None, shuffle=False)\n",
        "for gamma in gamma_values:\n",
        "  for c in c_values:\n",
        "      svm = SVC(C=c, gamma=gamma)\n",
        "      svm.fit(X_train, y_train)\n",
        "      svm_pred = svm.predict(X_test)\n",
        "      accuracy = accuracy_score(y_test,svm_pred)\n",
        "      mean_accuracy = np.mean(accuracy)\n",
        "      std_accuracy = np.std(accuracy)\n",
        "      print(\"Gamma:\", gamma, \"C:\", c, \"Mean Accuracy:\", mean_accuracy, \"Std Accuracy:\", std_accuracy)\n"
      ],
      "metadata": {
        "id": "wnbgadaj8eT0",
        "colab": {
          "base_uri": "https://localhost:8080/"
        },
        "outputId": "a37f6b3a-55ff-4ae6-9ea6-bbf56c44d06b"
      },
      "execution_count": 22,
      "outputs": [
        {
          "output_type": "stream",
          "name": "stdout",
          "text": [
            "Gamma: 0.01 C: 0.1 Mean Accuracy: 0.7305 Std Accuracy: 0.0\n",
            "Gamma: 0.01 C: 1 Mean Accuracy: 0.7495 Std Accuracy: 0.0\n",
            "Gamma: 0.01 C: 10 Mean Accuracy: 0.7705 Std Accuracy: 0.0\n",
            "Gamma: 0.1 C: 0.1 Mean Accuracy: 0.73 Std Accuracy: 0.0\n",
            "Gamma: 0.1 C: 1 Mean Accuracy: 0.7665 Std Accuracy: 0.0\n",
            "Gamma: 0.1 C: 10 Mean Accuracy: 0.7795 Std Accuracy: 0.0\n",
            "Gamma: 1 C: 0.1 Mean Accuracy: 0.744 Std Accuracy: 0.0\n",
            "Gamma: 1 C: 1 Mean Accuracy: 0.7665 Std Accuracy: 0.0\n",
            "Gamma: 1 C: 10 Mean Accuracy: 0.7705 Std Accuracy: 0.0\n"
          ]
        }
      ]
    },
    {
      "cell_type": "code",
      "source": [
        "X = df.iloc[:,:-1]\n",
        "y = df.iloc[:, -1]"
      ],
      "metadata": {
        "id": "PEC9k3OhYy3G"
      },
      "execution_count": 24,
      "outputs": []
    },
    {
      "cell_type": "code",
      "source": [
        "from sklearn.preprocessing import StandardScaler\n",
        "\n",
        "\n",
        "X_train, X_test, y_train, y_test = train_test_split(X, y, test_size=0.2,shuffle = True, random_state=42)\n",
        "\n",
        "X_train = np.asarray(X_train)\n",
        "y_train = np.asarray(y_train)\n",
        "X_test = np.asarray(X_test)\n",
        "y_test = np.asarray(y_test)\n",
        "\n",
        "scaler = StandardScaler()\n",
        "X_train_normalized = scaler.fit_transform(X_train)\n",
        "X_test_normalized = scaler.transform(X_test)"
      ],
      "metadata": {
        "id": "tN2s6gM8Y6QN"
      },
      "execution_count": 25,
      "outputs": []
    },
    {
      "cell_type": "code",
      "source": [
        "X_train = pd.DataFrame(X_train)\n",
        "X_train = X_train.dropna()\n",
        "y_train = pd.DataFrame(y_train)\n",
        "y_train = y_train.dropna()"
      ],
      "metadata": {
        "id": "e4-Dt7vZY9It"
      },
      "execution_count": 26,
      "outputs": []
    },
    {
      "cell_type": "code",
      "source": [
        "print(\"SVM accuracy: \",accuracy)"
      ],
      "metadata": {
        "colab": {
          "base_uri": "https://localhost:8080/"
        },
        "id": "fM8gue-HiBeP",
        "outputId": "0cc68440-ea8b-4178-9888-c1d20902cc78"
      },
      "execution_count": 28,
      "outputs": [
        {
          "output_type": "stream",
          "name": "stdout",
          "text": [
            "SVM accuracy:  0.7705\n"
          ]
        }
      ]
    },
    {
      "cell_type": "code",
      "source": [
        "from sklearn import preprocessing\n",
        "\n",
        "min_max_scaler = preprocessing.MinMaxScaler()\n",
        "X_scale = min_max_scaler.fit_transform(X)"
      ],
      "metadata": {
        "id": "OjOzSdsK-rks"
      },
      "execution_count": 29,
      "outputs": []
    },
    {
      "cell_type": "code",
      "source": [
        "X_train, X_val_and_test, Y_train, Y_val_and_test = train_test_split(X_scale, y, test_size=0.3, random_state=1)\n",
        "X_val, X_test, Y_val, Y_test = train_test_split(X_val_and_test, Y_val_and_test, test_size=0.5, random_state=1)\n",
        "print(X_train.shape, X_val.shape, X_test.shape, Y_train.shape, Y_val.shape, Y_test.shape)"
      ],
      "metadata": {
        "id": "WCo1p2c2FLWs",
        "colab": {
          "base_uri": "https://localhost:8080/"
        },
        "outputId": "2ea1de65-a4da-451d-bcf1-967c15c9666d"
      },
      "execution_count": 30,
      "outputs": [
        {
          "output_type": "stream",
          "name": "stdout",
          "text": [
            "(851021, 13) (182362, 13) (182362, 13) (851021,) (182362,) (182362,)\n"
          ]
        }
      ]
    },
    {
      "cell_type": "code",
      "source": [
        "import pandas as pd\n",
        "from sklearn import preprocessing\n",
        "from sklearn.model_selection import train_test_split\n",
        "from keras.models import Sequential\n",
        "from keras.layers import Dense #makes summation, activation\n",
        "import matplotlib.pyplot as plt\n",
        "from keras.optimizers import SGD, Adam"
      ],
      "metadata": {
        "id": "3NoW6R1GIpJ-"
      },
      "execution_count": 31,
      "outputs": []
    },
    {
      "cell_type": "code",
      "source": [
        "model = Sequential([\n",
        "    Dense(10, activation='relu', input_shape=(10,)), #vector\n",
        "    Dense(5, activation='relu'),\n",
        "    Dense(1, activation='sigmoid'),\n",
        "])"
      ],
      "metadata": {
        "id": "LF3-1rBFIWG2"
      },
      "execution_count": 32,
      "outputs": []
    },
    {
      "cell_type": "code",
      "source": [
        "model.compile(optimizer='sgd',\n",
        "              loss='binary_crossentropy',\n",
        "              metrics=['accuracy'])"
      ],
      "metadata": {
        "id": "x7pxAit1IY01"
      },
      "execution_count": 33,
      "outputs": []
    },
    {
      "cell_type": "code",
      "source": [
        "import keras\n",
        "\n",
        "(x_train, y_train), (x_test, y_test) = keras.datasets.mnist.load_data()\n",
        "\n",
        "# Preprocess the data (these are NumPy arrays)\n",
        "x_train = x_train.reshape(60000, 784).astype(\"float32\") / 255\n",
        "x_test = x_test.reshape(10000, 784).astype(\"float32\") / 255\n",
        "\n",
        "y_train = y_train.astype(\"float32\")\n",
        "y_test = y_test.astype(\"float32\")\n",
        "\n",
        "# Reserve 10,000 samples for validation\n",
        "x_val = x_train[-10000:]\n",
        "y_val = y_train[-10000:]\n",
        "x_train = x_train[:-10000]\n",
        "y_train = y_train[:-10000]\n"
      ],
      "metadata": {
        "id": "dkfeSoU_KB-M"
      },
      "execution_count": 34,
      "outputs": []
    },
    {
      "cell_type": "code",
      "source": [
        "from keras import layers\n",
        "\n",
        "inputs = keras.Input(shape=(784,), name=\"digits\")\n",
        "x = layers.Dense(64, activation=\"relu\", name=\"dense_1\")(inputs)\n",
        "x = layers.Dense(64, activation=\"relu\", name=\"dense_2\")(x)\n",
        "outputs = layers.Dense(10, activation=\"softmax\", name=\"predictions\")(x)\n",
        "\n",
        "model = keras.Model(inputs=inputs, outputs=outputs)\n",
        "\n",
        "# Compile the model\n",
        "model.compile(optimizer=\"adam\", loss=\"sparse_categorical_crossentropy\", metrics=[\"accuracy\"])\n",
        "\n",
        "print(\"Fit model on training data\")\n"
      ],
      "metadata": {
        "id": "FVM2hFUtVqh4",
        "colab": {
          "base_uri": "https://localhost:8080/"
        },
        "outputId": "506c1596-1b7f-45bd-a848-e5c7db1d40b7"
      },
      "execution_count": 35,
      "outputs": [
        {
          "output_type": "stream",
          "name": "stdout",
          "text": [
            "Fit model on training data\n"
          ]
        }
      ]
    },
    {
      "cell_type": "markdown",
      "source": [],
      "metadata": {
        "id": "r_x1nX3ZI-np"
      }
    },
    {
      "cell_type": "code",
      "source": [
        "history = model.fit(\n",
        "    x_train,\n",
        "    y_train,\n",
        "    batch_size=64,\n",
        "    epochs=10,\n",
        "    # We pass some validation for\n",
        "    # monitoring validation loss and metrics\n",
        "    # at the end of each epoch\n",
        "    validation_data=(x_val, y_val),\n",
        ")\n"
      ],
      "metadata": {
        "id": "nvNuRUIIIuyi",
        "colab": {
          "base_uri": "https://localhost:8080/"
        },
        "outputId": "ece9dd26-a11e-4784-eb38-b54e16ce2ad4"
      },
      "execution_count": 36,
      "outputs": [
        {
          "output_type": "stream",
          "name": "stdout",
          "text": [
            "Epoch 1/10\n",
            "782/782 [==============================] - 6s 5ms/step - loss: 0.3535 - accuracy: 0.8991 - val_loss: 0.1738 - val_accuracy: 0.9487\n",
            "Epoch 2/10\n",
            "782/782 [==============================] - 3s 3ms/step - loss: 0.1495 - accuracy: 0.9560 - val_loss: 0.1245 - val_accuracy: 0.9633\n",
            "Epoch 3/10\n",
            "782/782 [==============================] - 2s 3ms/step - loss: 0.1099 - accuracy: 0.9673 - val_loss: 0.1177 - val_accuracy: 0.9648\n",
            "Epoch 4/10\n",
            "782/782 [==============================] - 3s 3ms/step - loss: 0.0857 - accuracy: 0.9741 - val_loss: 0.1068 - val_accuracy: 0.9717\n",
            "Epoch 5/10\n",
            "782/782 [==============================] - 3s 4ms/step - loss: 0.0715 - accuracy: 0.9785 - val_loss: 0.0964 - val_accuracy: 0.9711\n",
            "Epoch 6/10\n",
            "782/782 [==============================] - 5s 6ms/step - loss: 0.0595 - accuracy: 0.9817 - val_loss: 0.1033 - val_accuracy: 0.9702\n",
            "Epoch 7/10\n",
            "782/782 [==============================] - 3s 3ms/step - loss: 0.0514 - accuracy: 0.9850 - val_loss: 0.0961 - val_accuracy: 0.9729\n",
            "Epoch 8/10\n",
            "782/782 [==============================] - 2s 3ms/step - loss: 0.0432 - accuracy: 0.9867 - val_loss: 0.1017 - val_accuracy: 0.9688\n",
            "Epoch 9/10\n",
            "782/782 [==============================] - 3s 3ms/step - loss: 0.0381 - accuracy: 0.9882 - val_loss: 0.1068 - val_accuracy: 0.9718\n",
            "Epoch 10/10\n",
            "782/782 [==============================] - 3s 4ms/step - loss: 0.0329 - accuracy: 0.9895 - val_loss: 0.0954 - val_accuracy: 0.9733\n"
          ]
        }
      ]
    },
    {
      "cell_type": "code",
      "source": [
        "from sklearn.model_selection import train_test_split\n",
        "\n",
        "# Assuming you have your input data X and target data y\n",
        "\n",
        "# Split the data into training and testing sets\n",
        "X_train, X_test, y_train, y_test = train_test_split(X, y, test_size=0.2, random_state=42)\n",
        "\n",
        "# Check the shapes of the training and testing sets\n",
        "print(\"Training set shapes - X_train: {}, y_train: {}\".format(X_train.shape, y_train.shape))\n",
        "print(\"Testing set shapes - X_test: {}, y_test: {}\".format(X_test.shape, y_test.shape))\n"
      ],
      "metadata": {
        "id": "VdfTu8IiIw9v",
        "colab": {
          "base_uri": "https://localhost:8080/"
        },
        "outputId": "be7a3e06-f5e6-423c-db46-b201f943103b"
      },
      "execution_count": 37,
      "outputs": [
        {
          "output_type": "stream",
          "name": "stdout",
          "text": [
            "Training set shapes - X_train: (972596, 13), y_train: (972596,)\n",
            "Testing set shapes - X_test: (243149, 13), y_test: (243149,)\n"
          ]
        }
      ]
    },
    {
      "cell_type": "code",
      "source": [
        "X_test_adj = X_test[:5000]\n",
        "y_test_adj = y_test[:5000]"
      ],
      "metadata": {
        "id": "XX8XqzFjJ-9R"
      },
      "execution_count": 38,
      "outputs": []
    },
    {
      "cell_type": "code",
      "source": [
        "from keras.models import Sequential\n",
        "from keras.layers import Dense\n",
        "model = Sequential()\n",
        "model.add(Dense(64, activation='relu', input_shape=(13,)))  # Adjust input shape to (13,)\n",
        "model.add(Dense(64, activation='relu'))\n",
        "model.add(Dense(1, activation='sigmoid'))  # Assuming binary classification\n",
        "model.compile(optimizer='adam', loss='binary_crossentropy', metrics=['accuracy'])\n",
        "\n",
        "# evaluation\n",
        "evaluation_results = model.evaluate(X_test_adj, y_test_adj)\n",
        "evaluation_results"
      ],
      "metadata": {
        "id": "0qId9LRXLm_k",
        "colab": {
          "base_uri": "https://localhost:8080/"
        },
        "outputId": "a5393b5f-d99f-4dff-c078-8c47212f94a7"
      },
      "execution_count": 39,
      "outputs": [
        {
          "output_type": "stream",
          "name": "stdout",
          "text": [
            "157/157 [==============================] - 0s 2ms/step - loss: 1.1236 - accuracy: 0.1022\n"
          ]
        },
        {
          "output_type": "execute_result",
          "data": {
            "text/plain": [
              "[1.1236366033554077, 0.10220000147819519]"
            ]
          },
          "metadata": {},
          "execution_count": 39
        }
      ]
    },
    {
      "cell_type": "code",
      "source": [
        "accuracy = evaluation_results[1]\n",
        "\n",
        "print(\"Accuracy:\", accuracy)"
      ],
      "metadata": {
        "colab": {
          "base_uri": "https://localhost:8080/"
        },
        "id": "qEUe8XVbJt5D",
        "outputId": "6275bc2d-a910-406b-acff-e965dd3dc640"
      },
      "execution_count": 40,
      "outputs": [
        {
          "output_type": "stream",
          "name": "stdout",
          "text": [
            "Accuracy: 0.10220000147819519\n"
          ]
        }
      ]
    },
    {
      "cell_type": "code",
      "source": [
        "plt.plot(history.history['loss'])\n",
        "plt.plot(history.history['val_loss'])\n",
        "plt.title('Model loss')\n",
        "plt.ylabel('Loss')\n",
        "plt.xlabel('Epoch')\n",
        "plt.legend(['Train', 'Val'], loc='upper right')\n",
        "plt.show()"
      ],
      "metadata": {
        "id": "mH6ugIMrL_qH",
        "colab": {
          "base_uri": "https://localhost:8080/",
          "height": 472
        },
        "outputId": "d2b9b6ab-e13c-40d3-a47f-dd79b3b41cc6"
      },
      "execution_count": 42,
      "outputs": [
        {
          "output_type": "display_data",
          "data": {
            "text/plain": [
              "<Figure size 640x480 with 1 Axes>"
            ],
            "image/png": "[encoded data removed]"
          },
          "metadata": {}
        }
      ]
    },
    {
      "cell_type": "code",
      "source": [
        "plt.plot(history.history['accuracy'])\n",
        "plt.plot(history.history['val_accuracy'])\n",
        "plt.title('Model accuracy')\n",
        "plt.ylabel('Accuracy')\n",
        "plt.xlabel('Epoch')\n",
        "plt.legend(['Train', 'Val'], loc='lower right')\n",
        "plt.show()"
      ],
      "metadata": {
        "id": "3WR0D-IINPKr",
        "colab": {
          "base_uri": "https://localhost:8080/",
          "height": 472
        },
        "outputId": "894b89fa-54af-4647-9566-fd38dcfd3ef1"
      },
      "execution_count": 43,
      "outputs": [
        {
          "output_type": "display_data",
          "data": {
            "text/plain": [
              "<Figure size 640x480 with 1 Axes>"
            ],
            "image/png": "[encoded data removed]"
          },
          "metadata": {}
        }
      ]
    },
    {
      "cell_type": "code",
      "source": [
        "#Define sigmoid function\n",
        "def sigmoid(z):\n",
        "    #output > 0.5 when z is positive\n",
        "    #output < 0.5 when z is negative\n",
        "    return 1/(1+np.exp(-z)) # Output in range [0,1]"
      ],
      "metadata": {
        "id": "E1t72KKYPinZ"
      },
      "execution_count": 44,
      "outputs": []
    },
    {
      "cell_type": "code",
      "source": [
        "x= np.arange(-20,20)\n",
        "y= np.round(sigmoid(x),2)"
      ],
      "metadata": {
        "id": "61mztGYRgEtU"
      },
      "execution_count": 45,
      "outputs": []
    },
    {
      "cell_type": "code",
      "source": [
        "plt.plot(x, y)\n",
        "plt.xlabel('X values')\n",
        "plt.ylabel('Logistic/sigmoid function applied')"
      ],
      "metadata": {
        "id": "NZnJHL-rgGP6",
        "colab": {
          "base_uri": "https://localhost:8080/",
          "height": 466
        },
        "outputId": "60bbd232-daf6-4afe-f8d1-65428e6cfc92"
      },
      "execution_count": 46,
      "outputs": [
        {
          "output_type": "execute_result",
          "data": {
            "text/plain": [
              "Text(0, 0.5, 'Logistic/sigmoid function applied')"
            ]
          },
          "metadata": {},
          "execution_count": 46
        },
        {
          "output_type": "display_data",
          "data": {
            "text/plain": [
              "<Figure size 640x480 with 1 Axes>"
            ],
            "image/png": "[encoded data removed]"
          },
          "metadata": {}
        }
      ]
    },
    {
      "cell_type": "code",
      "source": [
        "df.isna().sum()"
      ],
      "metadata": {
        "id": "7Pn3-_RwgH2c",
        "colab": {
          "base_uri": "https://localhost:8080/"
        },
        "outputId": "79f69c54-1a4c-4eb5-9982-4815454c559c"
      },
      "execution_count": 47,
      "outputs": [
        {
          "output_type": "execute_result",
          "data": {
            "text/plain": [
              "alx                0\n",
              "aly                0\n",
              "alz                0\n",
              "glx                0\n",
              "gly                0\n",
              "glz                0\n",
              "arx                0\n",
              "ary                0\n",
              "arz                0\n",
              "grx                0\n",
              "gry                0\n",
              "grz                0\n",
              "Activity           0\n",
              "subject_encoded    0\n",
              "dtype: int64"
            ]
          },
          "metadata": {},
          "execution_count": 47
        }
      ]
    },
    {
      "cell_type": "code",
      "source": [
        "df.duplicated().sum()"
      ],
      "metadata": {
        "id": "fV5-h9iRgMG3",
        "colab": {
          "base_uri": "https://localhost:8080/"
        },
        "outputId": "15bbc912-4062-45d8-8310-efbe1091b476"
      },
      "execution_count": 48,
      "outputs": [
        {
          "output_type": "execute_result",
          "data": {
            "text/plain": [
              "0"
            ]
          },
          "metadata": {},
          "execution_count": 48
        }
      ]
    },
    {
      "cell_type": "code",
      "source": [
        "df['alx'].value_counts()"
      ],
      "metadata": {
        "id": "RnOB9wlngOxj",
        "colab": {
          "base_uri": "https://localhost:8080/"
        },
        "outputId": "25192a7d-db03-4b7b-9901-82882ef8223b"
      },
      "execution_count": 49,
      "outputs": [
        {
          "output_type": "execute_result",
          "data": {
            "text/plain": [
              "alx\n",
              " 19.59600    324\n",
              " 19.58600    287\n",
              " 19.57500    209\n",
              " 19.60600    182\n",
              " 19.56500     82\n",
              "            ... \n",
              " 7.36230       1\n",
              "-2.93850       1\n",
              "-9.24390       1\n",
              " 0.74650       1\n",
              " 0.99736       1\n",
              "Name: count, Length: 320576, dtype: int64"
            ]
          },
          "metadata": {},
          "execution_count": 49
        }
      ]
    },
    {
      "cell_type": "code",
      "source": [
        "X_train = np.random.rand(100, 13)\n",
        "y_train = np.random.randint(0, 2, 100)\n",
        "clf = LogisticRegression()\n",
        "clf.fit(X_train,y_train)"
      ],
      "metadata": {
        "id": "WFfsI3AogX4j",
        "colab": {
          "base_uri": "https://localhost:8080/",
          "height": 75
        },
        "outputId": "6b0c7ba8-8287-46e5-8a28-abbe0d5e37a3"
      },
      "execution_count": 50,
      "outputs": [
        {
          "output_type": "execute_result",
          "data": {
            "text/plain": [
              "LogisticRegression()"
            ],
            "text/html": [
              "<style>#sk-container-id-2 {color: black;background-color: white;}#sk-container-id-2 pre{padding: 0;}#sk-container-id-2 div.sk-toggleable {background-color: white;}#sk-container-id-2 label.sk-toggleable__label {cursor: pointer;display: block;width: 100%;margin-bottom: 0;padding: 0.3em;box-sizing: border-box;text-align: center;}#sk-container-id-2 label.sk-toggleable__label-arrow:before {content: \"▸\";float: left;margin-right: 0.25em;color: #696969;}#sk-container-id-2 label.sk-toggleable__label-arrow:hover:before {color: black;}#sk-container-id-2 div.sk-estimator:hover label.sk-toggleable__label-arrow:before {color: black;}#sk-container-id-2 div.sk-toggleable__content {max-height: 0;max-width: 0;overflow: hidden;text-align: left;background-color: #f0f8ff;}#sk-container-id-2 div.sk-toggleable__content pre {margin: 0.2em;color: black;border-radius: 0.25em;background-color: #f0f8ff;}#sk-container-id-2 input.sk-toggleable__control:checked~div.sk-toggleable__content {max-height: 200px;max-width: 100%;overflow: auto;}#sk-container-id-2 input.sk-toggleable__control:checked~label.sk-toggleable__label-arrow:before {content: \"▾\";}#sk-container-id-2 div.sk-estimator input.sk-toggleable__control:checked~label.sk-toggleable__label {background-color: #d4ebff;}#sk-container-id-2 div.sk-label input.sk-toggleable__control:checked~label.sk-toggleable__label {background-color: #d4ebff;}#sk-container-id-2 input.sk-hidden--visually {border: 0;clip: rect(1px 1px 1px 1px);clip: rect(1px, 1px, 1px, 1px);height: 1px;margin: -1px;overflow: hidden;padding: 0;position: absolute;width: 1px;}#sk-container-id-2 div.sk-estimator {font-family: monospace;background-color: #f0f8ff;border: 1px dotted black;border-radius: 0.25em;box-sizing: border-box;margin-bottom: 0.5em;}#sk-container-id-2 div.sk-estimator:hover {background-color: #d4ebff;}#sk-container-id-2 div.sk-parallel-item::after {content: \"\";width: 100%;border-bottom: 1px solid gray;flex-grow: 1;}#sk-container-id-2 div.sk-label:hover label.sk-toggleable__label {background-color: #d4ebff;}#sk-container-id-2 div.sk-serial::before {content: \"\";position: absolute;border-left: 1px solid gray;box-sizing: border-box;top: 0;bottom: 0;left: 50%;z-index: 0;}#sk-container-id-2 div.sk-serial {display: flex;flex-direction: column;align-items: center;background-color: white;padding-right: 0.2em;padding-left: 0.2em;position: relative;}#sk-container-id-2 div.sk-item {position: relative;z-index: 1;}#sk-container-id-2 div.sk-parallel {display: flex;align-items: stretch;justify-content: center;background-color: white;position: relative;}#sk-container-id-2 div.sk-item::before, #sk-container-id-2 div.sk-parallel-item::before {content: \"\";position: absolute;border-left: 1px solid gray;box-sizing: border-box;top: 0;bottom: 0;left: 50%;z-index: -1;}#sk-container-id-2 div.sk-parallel-item {display: flex;flex-direction: column;z-index: 1;position: relative;background-color: white;}#sk-container-id-2 div.sk-parallel-item:first-child::after {align-self: flex-end;width: 50%;}#sk-container-id-2 div.sk-parallel-item:last-child::after {align-self: flex-start;width: 50%;}#sk-container-id-2 div.sk-parallel-item:only-child::after {width: 0;}#sk-container-id-2 div.sk-dashed-wrapped {border: 1px dashed gray;margin: 0 0.4em 0.5em 0.4em;box-sizing: border-box;padding-bottom: 0.4em;background-color: white;}#sk-container-id-2 div.sk-label label {font-family: monospace;font-weight: bold;display: inline-block;line-height: 1.2em;}#sk-container-id-2 div.sk-label-container {text-align: center;}#sk-container-id-2 div.sk-container {/* jupyter's `normalize.less` sets `[hidden] { display: none; }` but bootstrap.min.css set `[hidden] { display: none !important; }` so we also need the `!important` here to be able to override the default hidden behavior on the sphinx rendered scikit-learn.org. See: https://github.com/scikit-learn/scikit-learn/issues/21755 */display: inline-block !important;position: relative;}#sk-container-id-2 div.sk-text-repr-fallback {display: none;}</style><div id=\"sk-container-id-2\" class=\"sk-top-container\"><div class=\"sk-text-repr-fallback\"><pre>LogisticRegression()</pre><b>In a Jupyter environment, please rerun this cell to show the HTML representation or trust the notebook. <br />On GitHub, the HTML representation is unable to render, please try loading this page with nbviewer.org.</b></div><div class=\"sk-container\" hidden><div class=\"sk-item\"><div class=\"sk-estimator sk-toggleable\"><input class=\"sk-toggleable__control sk-hidden--visually\" id=\"sk-estimator-id-4\" type=\"checkbox\" checked><label for=\"sk-estimator-id-4\" class=\"sk-toggleable__label sk-toggleable__label-arrow\">LogisticRegression</label><div class=\"sk-toggleable__content\"><pre>LogisticRegression()</pre></div></div></div></div></div>"
            ]
          },
          "metadata": {},
          "execution_count": 50
        }
      ]
    },
    {
      "cell_type": "code",
      "source": [
        "y_pred=clf.predict(X_test)\n",
        "y_pred"
      ],
      "metadata": {
        "id": "Am6pWQ7RgpHY",
        "colab": {
          "base_uri": "https://localhost:8080/"
        },
        "outputId": "0160dbf6-b6fa-4f7c-de5a-d4eb06bf22d1"
      },
      "execution_count": 51,
      "outputs": [
        {
          "output_type": "stream",
          "name": "stderr",
          "text": [
            "/usr/local/lib/python3.10/dist-packages/sklearn/base.py:432: UserWarning: X has feature names, but LogisticRegression was fitted without feature names\n",
            "  warnings.warn(\n"
          ]
        },
        {
          "output_type": "execute_result",
          "data": {
            "text/plain": [
              "array([0, 0, 0, ..., 0, 0, 0])"
            ]
          },
          "metadata": {},
          "execution_count": 51
        }
      ]
    },
    {
      "cell_type": "code",
      "source": [
        "y_test = np.random.randint(0, 2, 243149)\n",
        "print(accuracy_score(y_test,y_pred))"
      ],
      "metadata": {
        "id": "EOaYYcKZg3Yi",
        "colab": {
          "base_uri": "https://localhost:8080/"
        },
        "outputId": "a593f41a-58ec-4c58-c5d9-5c175a51413a"
      },
      "execution_count": 52,
      "outputs": [
        {
          "output_type": "stream",
          "name": "stdout",
          "text": [
            "0.49894920398603326\n"
          ]
        }
      ]
    },
    {
      "cell_type": "code",
      "source": [
        "# Convert labels to the same type if necessary\n",
        "y_test = y_test.astype(str)\n",
        "y_pred = y_pred.astype(str)\n",
        "\n",
        "# Now you can calculate the confusion matrix\n",
        "confusion_matrix(y_test, y_pred)\n"
      ],
      "metadata": {
        "id": "6cwvRmC8kn4-",
        "colab": {
          "base_uri": "https://localhost:8080/"
        },
        "outputId": "5334e33b-6110-4ed1-9242-29c92f5b0c62"
      },
      "execution_count": 53,
      "outputs": [
        {
          "output_type": "execute_result",
          "data": {
            "text/plain": [
              "array([[61974, 60052],\n",
              "       [61778, 59345]])"
            ]
          },
          "metadata": {},
          "execution_count": 53
        }
      ]
    },
    {
      "cell_type": "code",
      "source": [
        "from sklearn.metrics import confusion_matrix\n",
        "\n",
        "# Compute the confusion matrix\n",
        "cm = confusion_matrix(y_test, y_pred)\n",
        "\n",
        "# Plotting the confusion matrix as a heatmap\n",
        "plt.figure(figsize=(8, 6))\n",
        "sns.heatmap(cm, annot=True, cmap='Blues', fmt='d')\n",
        "plt.xlabel('Predicted Labels')\n",
        "plt.ylabel('True Labels')\n",
        "plt.title('Confusion Matrix')\n",
        "plt.show()"
      ],
      "metadata": {
        "id": "zMne7MqbL1-M",
        "colab": {
          "base_uri": "https://localhost:8080/",
          "height": 564
        },
        "outputId": "bb63128f-8dbf-4013-b59b-eece8e87a4ef"
      },
      "execution_count": 87,
      "outputs": [
        {
          "output_type": "display_data",
          "data": {
            "text/plain": [
              "<Figure size 800x600 with 2 Axes>"
            ],
            "image/png": "[encoded data removed]"
          },
          "metadata": {}
        }
      ]
    },
    {
      "cell_type": "code",
      "source": [
        "import numpy as np\n",
        "import pandas as pd\n",
        "import itertools\n",
        "\n",
        "from sklearn import datasets\n",
        "from sklearn.preprocessing import LabelEncoder\n",
        "from sklearn.preprocessing import StandardScaler\n",
        "from sklearn.model_selection import cross_val_score\n",
        "from sklearn.model_selection import train_test_split\n",
        "from sklearn import metrics\n",
        "from sklearn.model_selection import GridSearchCV\n",
        "from sklearn.preprocessing import StandardScaler\n",
        "\n",
        "import matplotlib.pyplot as plt\n",
        "import matplotlib.gridspec as gridspec\n",
        "\n",
        "from mlxtend.plotting import plot_decision_regions\n",
        "from mlxtend.preprocessing import shuffle_arrays_unison\n",
        "import seaborn as sns\n",
        "\n",
        "from tqdm.notebook import tqdm_notebook as tqdm\n",
        "\n",
        "from sklearn.svm import SVC\n"
      ],
      "metadata": {
        "id": "A2yNi6jFksaN"
      },
      "execution_count": 88,
      "outputs": []
    },
    {
      "cell_type": "code",
      "source": [
        "X = df[['aly', 'ary']].values\n",
        "y = df['Activity'].values\n",
        "\n",
        "X, y = shuffle_arrays_unison(arrays=[X, y], random_seed=42)\n",
        "\n",
        "scaler = StandardScaler()\n",
        "scaler.fit(X)\n",
        "\n",
        "X = scaler.transform(X)\n",
        "X_train, y_train = X[:100], y[:100]\n",
        "X_test, y_test = X[100:], y[100:]\n"
      ],
      "metadata": {
        "id": "0PCFFcwwprMI"
      },
      "execution_count": 89,
      "outputs": []
    },
    {
      "cell_type": "code",
      "source": [
        "# from sklearn.svm import SVC\n",
        "# my_svm = SVC(C=10, gamma=1)\n",
        "# clf = my_svm\n",
        "# scores = cross_val_score(clf, X[:1000], y[:1000], cv=5)\n",
        "# scores"
      ],
      "metadata": {
        "id": "aKUZNHbQpGZu"
      },
      "execution_count": 90,
      "outputs": []
    },
    {
      "cell_type": "code",
      "source": [
        "import itertools\n",
        "import statsmodels.api as sm\n",
        "import matplotlib.pyplot as plt\n",
        "import sklearn.linear_model as skl_lm\n"
      ],
      "metadata": {
        "id": "7O5_7Mc6pfFE"
      },
      "execution_count": 91,
      "outputs": []
    },
    {
      "cell_type": "code",
      "source": [
        "np.random.seed(seed=12)\n",
        "train = np.random.choice([True, False], size = len(y), replace = True)\n",
        "test = np.invert(train)"
      ],
      "metadata": {
        "id": "a1oBWAluJdw5"
      },
      "execution_count": 92,
      "outputs": []
    },
    {
      "cell_type": "code",
      "source": [
        "auto_data = pd.read_csv('/content/mhealth_raw_data.csv', na_values='?').dropna()\n",
        "auto_data.info()"
      ],
      "metadata": {
        "colab": {
          "base_uri": "https://localhost:8080/"
        },
        "id": "k3dirFGjJlYG",
        "outputId": "4b73334a-9a52-4fd1-88ee-e630a3e49e7f"
      },
      "execution_count": 93,
      "outputs": [
        {
          "output_type": "stream",
          "name": "stdout",
          "text": [
            "<class 'pandas.core.frame.DataFrame'>\n",
            "RangeIndex: 1215745 entries, 0 to 1215744\n",
            "Data columns (total 14 columns):\n",
            " #   Column    Non-Null Count    Dtype  \n",
            "---  ------    --------------    -----  \n",
            " 0   alx       1215745 non-null  float64\n",
            " 1   aly       1215745 non-null  float64\n",
            " 2   alz       1215745 non-null  float64\n",
            " 3   glx       1215745 non-null  float64\n",
            " 4   gly       1215745 non-null  float64\n",
            " 5   glz       1215745 non-null  float64\n",
            " 6   arx       1215745 non-null  float64\n",
            " 7   ary       1215745 non-null  float64\n",
            " 8   arz       1215745 non-null  float64\n",
            " 9   grx       1215745 non-null  float64\n",
            " 10  gry       1215745 non-null  float64\n",
            " 11  grz       1215745 non-null  float64\n",
            " 12  Activity  1215745 non-null  int64  \n",
            " 13  subject   1215745 non-null  object \n",
            "dtypes: float64(12), int64(1), object(1)\n",
            "memory usage: 129.9+ MB\n"
          ]
        }
      ]
    },
    {
      "cell_type": "code",
      "source": [
        "auto_data.head()"
      ],
      "metadata": {
        "colab": {
          "base_uri": "https://localhost:8080/",
          "height": 206
        },
        "id": "NYwU2MawJ11j",
        "outputId": "c33f1c23-03fe-4336-b384-6184184d8486"
      },
      "execution_count": 94,
      "outputs": [
        {
          "output_type": "execute_result",
          "data": {
            "text/plain": [
              "      alx     aly      alz       glx      gly      glz     arx     ary  \\\n",
              "0  2.1849 -9.6967  0.63077  0.103900 -0.84053 -0.68762 -8.6499 -4.5781   \n",
              "1  2.3876 -9.5080  0.68389  0.085343 -0.83865 -0.68369 -8.6275 -4.3198   \n",
              "2  2.4086 -9.5674  0.68113  0.085343 -0.83865 -0.68369 -8.5055 -4.2772   \n",
              "3  2.1814 -9.4301  0.55031  0.085343 -0.83865 -0.68369 -8.6279 -4.3163   \n",
              "4  2.4173 -9.3889  0.71098  0.085343 -0.83865 -0.68369 -8.7008 -4.1459   \n",
              "\n",
              "        arz      grx     gry       grz  Activity   subject  \n",
              "0  0.187760 -0.44902 -1.0103  0.034483         0  subject1  \n",
              "1  0.023595 -0.44902 -1.0103  0.034483         0  subject1  \n",
              "2  0.275720 -0.44902 -1.0103  0.034483         0  subject1  \n",
              "3  0.367520 -0.45686 -1.0082  0.025862         0  subject1  \n",
              "4  0.407290 -0.45686 -1.0082  0.025862         0  subject1  "
            ],
            "text/html": [
              "\n",
              "  <div id=\"df-4ac33bc2-eb32-464a-896d-55b15929bfc3\" class=\"colab-df-container\">\n",
              "    <div>\n",
              "<style scoped>\n",
              "    .dataframe tbody tr th:only-of-type {\n",
              "        vertical-align: middle;\n",
              "    }\n",
              "\n",
              "    .dataframe tbody tr th {\n",
              "        vertical-align: top;\n",
              "    }\n",
              "\n",
              "    .dataframe thead th {\n",
              "        text-align: right;\n",
              "    }\n",
              "</style>\n",
              "<table border=\"1\" class=\"dataframe\">\n",
              "  <thead>\n",
              "    <tr style=\"text-align: right;\">\n",
              "      <th></th>\n",
              "      <th>alx</th>\n",
              "      <th>aly</th>\n",
              "      <th>alz</th>\n",
              "      <th>glx</th>\n",
              "      <th>gly</th>\n",
              "      <th>glz</th>\n",
              "      <th>arx</th>\n",
              "      <th>ary</th>\n",
              "      <th>arz</th>\n",
              "      <th>grx</th>\n",
              "      <th>gry</th>\n",
              "      <th>grz</th>\n",
              "      <th>Activity</th>\n",
              "      <th>subject</th>\n",
              "    </tr>\n",
              "  </thead>\n",
              "  <tbody>\n",
              "    <tr>\n",
              "      <th>0</th>\n",
              "      <td>2.1849</td>\n",
              "      <td>-9.6967</td>\n",
              "      <td>0.63077</td>\n",
              "      <td>0.103900</td>\n",
              "      <td>-0.84053</td>\n",
              "      <td>-0.68762</td>\n",
              "      <td>-8.6499</td>\n",
              "      <td>-4.5781</td>\n",
              "      <td>0.187760</td>\n",
              "      <td>-0.44902</td>\n",
              "      <td>-1.0103</td>\n",
              "      <td>0.034483</td>\n",
              "      <td>0</td>\n",
              "      <td>subject1</td>\n",
              "    </tr>\n",
              "    <tr>\n",
              "      <th>1</th>\n",
              "      <td>2.3876</td>\n",
              "      <td>-9.5080</td>\n",
              "      <td>0.68389</td>\n",
              "      <td>0.085343</td>\n",
              "      <td>-0.83865</td>\n",
              "      <td>-0.68369</td>\n",
              "      <td>-8.6275</td>\n",
              "      <td>-4.3198</td>\n",
              "      <td>0.023595</td>\n",
              "      <td>-0.44902</td>\n",
              "      <td>-1.0103</td>\n",
              "      <td>0.034483</td>\n",
              "      <td>0</td>\n",
              "      <td>subject1</td>\n",
              "    </tr>\n",
              "    <tr>\n",
              "      <th>2</th>\n",
              "      <td>2.4086</td>\n",
              "      <td>-9.5674</td>\n",
              "      <td>0.68113</td>\n",
              "      <td>0.085343</td>\n",
              "      <td>-0.83865</td>\n",
              "      <td>-0.68369</td>\n",
              "      <td>-8.5055</td>\n",
              "      <td>-4.2772</td>\n",
              "      <td>0.275720</td>\n",
              "      <td>-0.44902</td>\n",
              "      <td>-1.0103</td>\n",
              "      <td>0.034483</td>\n",
              "      <td>0</td>\n",
              "      <td>subject1</td>\n",
              "    </tr>\n",
              "    <tr>\n",
              "      <th>3</th>\n",
              "      <td>2.1814</td>\n",
              "      <td>-9.4301</td>\n",
              "      <td>0.55031</td>\n",
              "      <td>0.085343</td>\n",
              "      <td>-0.83865</td>\n",
              "      <td>-0.68369</td>\n",
              "      <td>-8.6279</td>\n",
              "      <td>-4.3163</td>\n",
              "      <td>0.367520</td>\n",
              "      <td>-0.45686</td>\n",
              "      <td>-1.0082</td>\n",
              "      <td>0.025862</td>\n",
              "      <td>0</td>\n",
              "      <td>subject1</td>\n",
              "    </tr>\n",
              "    <tr>\n",
              "      <th>4</th>\n",
              "      <td>2.4173</td>\n",
              "      <td>-9.3889</td>\n",
              "      <td>0.71098</td>\n",
              "      <td>0.085343</td>\n",
              "      <td>-0.83865</td>\n",
              "      <td>-0.68369</td>\n",
              "      <td>-8.7008</td>\n",
              "      <td>-4.1459</td>\n",
              "      <td>0.407290</td>\n",
              "      <td>-0.45686</td>\n",
              "      <td>-1.0082</td>\n",
              "      <td>0.025862</td>\n",
              "      <td>0</td>\n",
              "      <td>subject1</td>\n",
              "    </tr>\n",
              "  </tbody>\n",
              "</table>\n",
              "</div>\n",
              "    <div class=\"colab-df-buttons\">\n",
              "\n",
              "  <div class=\"colab-df-container\">\n",
              "    <button class=\"colab-df-convert\" onclick=\"convertToInteractive('df-4ac33bc2-eb32-464a-896d-55b15929bfc3')\"\n",
              "            title=\"Convert this dataframe to an interactive table.\"\n",
              "            style=\"display:none;\">\n",
              "\n",
              "  <svg xmlns=\"http://www.w3.org/2000/svg\" height=\"24px\" viewBox=\"0 -960 960 960\">\n",
              "    <path d=\"M120-120v-720h720v720H120Zm60-500h600v-160H180v160Zm220 220h160v-160H400v160Zm0 220h160v-160H400v160ZM180-400h160v-160H180v160Zm440 0h160v-160H620v160ZM180-180h160v-160H180v160Zm440 0h160v-160H620v160Z\"/>\n",
              "  </svg>\n",
              "    </button>\n",
              "\n",
              "  <style>\n",
              "    .colab-df-container {\n",
              "      display:flex;\n",
              "      gap: 12px;\n",
              "    }\n",
              "\n",
              "    .colab-df-convert {\n",
              "      background-color: #E8F0FE;\n",
              "      border: none;\n",
              "      border-radius: 50%;\n",
              "      cursor: pointer;\n",
              "      display: none;\n",
              "      fill: #1967D2;\n",
              "      height: 32px;\n",
              "      padding: 0 0 0 0;\n",
              "      width: 32px;\n",
              "    }\n",
              "\n",
              "    .colab-df-convert:hover {\n",
              "      background-color: #E2EBFA;\n",
              "      box-shadow: 0px 1px 2px rgba(60, 64, 67, 0.3), 0px 1px 3px 1px rgba(60, 64, 67, 0.15);\n",
              "      fill: #174EA6;\n",
              "    }\n",
              "\n",
              "    .colab-df-buttons div {\n",
              "      margin-bottom: 4px;\n",
              "    }\n",
              "\n",
              "    [theme=dark] .colab-df-convert {\n",
              "      background-color: #3B4455;\n",
              "      fill: #D2E3FC;\n",
              "    }\n",
              "\n",
              "    [theme=dark] .colab-df-convert:hover {\n",
              "      background-color: #434B5C;\n",
              "      box-shadow: 0px 1px 3px 1px rgba(0, 0, 0, 0.15);\n",
              "      filter: drop-shadow(0px 1px 2px rgba(0, 0, 0, 0.3));\n",
              "      fill: #FFFFFF;\n",
              "    }\n",
              "  </style>\n",
              "\n",
              "    <script>\n",
              "      const buttonEl =\n",
              "        document.querySelector('#df-4ac33bc2-eb32-464a-896d-55b15929bfc3 button.colab-df-convert');\n",
              "      buttonEl.style.display =\n",
              "        google.colab.kernel.accessAllowed ? 'block' : 'none';\n",
              "\n",
              "      async function convertToInteractive(key) {\n",
              "        const element = document.querySelector('#df-4ac33bc2-eb32-464a-896d-55b15929bfc3');\n",
              "        const dataTable =\n",
              "          await google.colab.kernel.invokeFunction('convertToInteractive',\n",
              "                                                    [key], {});\n",
              "        if (!dataTable) return;\n",
              "\n",
              "        const docLinkHtml = 'Like what you see? Visit the ' +\n",
              "          '<a target=\"_blank\" href=https://colab.research.google.com/notebooks/data_table.ipynb>data table notebook</a>'\n",
              "          + ' to learn more about interactive tables.';\n",
              "        element.innerHTML = '';\n",
              "        dataTable['output_type'] = 'display_data';\n",
              "        await google.colab.output.renderOutput(dataTable, element);\n",
              "        const docLink = document.createElement('div');\n",
              "        docLink.innerHTML = docLinkHtml;\n",
              "        element.appendChild(docLink);\n",
              "      }\n",
              "    </script>\n",
              "  </div>\n",
              "\n",
              "\n",
              "<div id=\"df-756e1cf6-62a0-495f-9a4f-f5cc083237e3\">\n",
              "  <button class=\"colab-df-quickchart\" onclick=\"quickchart('df-756e1cf6-62a0-495f-9a4f-f5cc083237e3')\"\n",
              "            title=\"Suggest charts\"\n",
              "            style=\"display:none;\">\n",
              "\n",
              "<svg xmlns=\"http://www.w3.org/2000/svg\" height=\"24px\"viewBox=\"0 0 24 24\"\n",
              "     width=\"24px\">\n",
              "    <g>\n",
              "        <path d=\"M19 3H5c-1.1 0-2 .9-2 2v14c0 1.1.9 2 2 2h14c1.1 0 2-.9 2-2V5c0-1.1-.9-2-2-2zM9 17H7v-7h2v7zm4 0h-2V7h2v10zm4 0h-2v-4h2v4z\"/>\n",
              "    </g>\n",
              "</svg>\n",
              "  </button>\n",
              "\n",
              "<style>\n",
              "  .colab-df-quickchart {\n",
              "      --bg-color: #E8F0FE;\n",
              "      --fill-color: #1967D2;\n",
              "      --hover-bg-color: #E2EBFA;\n",
              "      --hover-fill-color: #174EA6;\n",
              "      --disabled-fill-color: #AAA;\n",
              "      --disabled-bg-color: #DDD;\n",
              "  }\n",
              "\n",
              "  [theme=dark] .colab-df-quickchart {\n",
              "      --bg-color: #3B4455;\n",
              "      --fill-color: #D2E3FC;\n",
              "      --hover-bg-color: #434B5C;\n",
              "      --hover-fill-color: #FFFFFF;\n",
              "      --disabled-bg-color: #3B4455;\n",
              "      --disabled-fill-color: #666;\n",
              "  }\n",
              "\n",
              "  .colab-df-quickchart {\n",
              "    background-color: var(--bg-color);\n",
              "    border: none;\n",
              "    border-radius: 50%;\n",
              "    cursor: pointer;\n",
              "    display: none;\n",
              "    fill: var(--fill-color);\n",
              "    height: 32px;\n",
              "    padding: 0;\n",
              "    width: 32px;\n",
              "  }\n",
              "\n",
              "  .colab-df-quickchart:hover {\n",
              "    background-color: var(--hover-bg-color);\n",
              "    box-shadow: 0 1px 2px rgba(60, 64, 67, 0.3), 0 1px 3px 1px rgba(60, 64, 67, 0.15);\n",
              "    fill: var(--button-hover-fill-color);\n",
              "  }\n",
              "\n",
              "  .colab-df-quickchart-complete:disabled,\n",
              "  .colab-df-quickchart-complete:disabled:hover {\n",
              "    background-color: var(--disabled-bg-color);\n",
              "    fill: var(--disabled-fill-color);\n",
              "    box-shadow: none;\n",
              "  }\n",
              "\n",
              "  .colab-df-spinner {\n",
              "    border: 2px solid var(--fill-color);\n",
              "    border-color: transparent;\n",
              "    border-bottom-color: var(--fill-color);\n",
              "    animation:\n",
              "      spin 1s steps(1) infinite;\n",
              "  }\n",
              "\n",
              "  @keyframes spin {\n",
              "    0% {\n",
              "      border-color: transparent;\n",
              "      border-bottom-color: var(--fill-color);\n",
              "      border-left-color: var(--fill-color);\n",
              "    }\n",
              "    20% {\n",
              "      border-color: transparent;\n",
              "      border-left-color: var(--fill-color);\n",
              "      border-top-color: var(--fill-color);\n",
              "    }\n",
              "    30% {\n",
              "      border-color: transparent;\n",
              "      border-left-color: var(--fill-color);\n",
              "      border-top-color: var(--fill-color);\n",
              "      border-right-color: var(--fill-color);\n",
              "    }\n",
              "    40% {\n",
              "      border-color: transparent;\n",
              "      border-right-color: var(--fill-color);\n",
              "      border-top-color: var(--fill-color);\n",
              "    }\n",
              "    60% {\n",
              "      border-color: transparent;\n",
              "      border-right-color: var(--fill-color);\n",
              "    }\n",
              "    80% {\n",
              "      border-color: transparent;\n",
              "      border-right-color: var(--fill-color);\n",
              "      border-bottom-color: var(--fill-color);\n",
              "    }\n",
              "    90% {\n",
              "      border-color: transparent;\n",
              "      border-bottom-color: var(--fill-color);\n",
              "    }\n",
              "  }\n",
              "</style>\n",
              "\n",
              "  <script>\n",
              "    async function quickchart(key) {\n",
              "      const quickchartButtonEl =\n",
              "        document.querySelector('#' + key + ' button');\n",
              "      quickchartButtonEl.disabled = true;  // To prevent multiple clicks.\n",
              "      quickchartButtonEl.classList.add('colab-df-spinner');\n",
              "      try {\n",
              "        const charts = await google.colab.kernel.invokeFunction(\n",
              "            'suggestCharts', [key], {});\n",
              "      } catch (error) {\n",
              "        console.error('Error during call to suggestCharts:', error);\n",
              "      }\n",
              "      quickchartButtonEl.classList.remove('colab-df-spinner');\n",
              "      quickchartButtonEl.classList.add('colab-df-quickchart-complete');\n",
              "    }\n",
              "    (() => {\n",
              "      let quickchartButtonEl =\n",
              "        document.querySelector('#df-756e1cf6-62a0-495f-9a4f-f5cc083237e3 button');\n",
              "      quickchartButtonEl.style.display =\n",
              "        google.colab.kernel.accessAllowed ? 'block' : 'none';\n",
              "    })();\n",
              "  </script>\n",
              "</div>\n",
              "\n",
              "    </div>\n",
              "  </div>\n"
            ],
            "application/vnd.google.colaboratory.intrinsic+json": {
              "type": "dataframe",
              "variable_name": "auto_data"
            }
          },
          "metadata": {},
          "execution_count": 94
        }
      ]
    },
    {
      "cell_type": "code",
      "source": [
        "auto_data.describe()"
      ],
      "metadata": {
        "colab": {
          "base_uri": "https://localhost:8080/",
          "height": 300
        },
        "id": "p6TucNqFJ6Jw",
        "outputId": "f6d4497c-28ef-435b-8868-8b640f457185"
      },
      "execution_count": 95,
      "outputs": [
        {
          "output_type": "execute_result",
          "data": {
            "text/plain": [
              "                alx           aly           alz           glx           gly  \\\n",
              "count  1.215745e+06  1.215745e+06  1.215745e+06  1.215745e+06  1.215745e+06   \n",
              "mean   1.494200e+00 -9.692878e+00 -9.548056e-01 -1.598951e-03 -6.166318e-01   \n",
              "std    3.826485e+00  4.171303e+00  5.461803e+00  4.912172e-01  3.546406e-01   \n",
              "min   -2.214600e+01 -1.961900e+01 -1.937300e+01 -2.146600e+00 -7.789900e+00   \n",
              "25%    1.413100e-01 -1.020100e+01 -2.649400e+00 -4.359900e-01 -8.180100e-01   \n",
              "50%    1.308900e+00 -9.670300e+00 -1.645600e-02 -1.484200e-02 -7.073200e-01   \n",
              "75%    2.575800e+00 -9.042200e+00  1.301300e+00  4.489800e-01 -5.403400e-01   \n",
              "max    2.005400e+01  2.116100e+01  2.501500e+01  6.048400e+01  2.011300e+00   \n",
              "\n",
              "                glz           arx           ary           arz           grx  \\\n",
              "count  1.215745e+06  1.215745e+06  1.215745e+06  1.215745e+06  1.215745e+06   \n",
              "mean  -1.587811e-01 -3.713413e+00 -5.805526e+00  2.393880e+00 -2.761061e-01   \n",
              "std    5.467979e-01  4.763586e+00  5.757639e+00  3.876503e+00  5.276888e-01   \n",
              "min   -2.626700e+00 -2.236100e+01 -1.897200e+01 -1.823900e+01 -8.339200e+00   \n",
              "25%   -5.933200e-01 -6.076000e+00 -9.404200e+00  1.296500e-01 -7.058800e-01   \n",
              "50%   -1.905700e-01 -2.977600e+00 -7.461500e+00  1.928100e+00 -3.549000e-01   \n",
              "75%    3.222000e-01 -1.193700e+00 -2.533900e+00  4.914700e+00  9.607800e-02   \n",
              "max    2.770100e+00  1.986400e+01  2.219100e+01  2.574100e+01  3.319600e+00   \n",
              "\n",
              "                gry           grz      Activity  \n",
              "count  1.215745e+06  1.215745e+06  1.215745e+06  \n",
              "mean  -4.664340e-01  2.666335e-01  1.741465e+00  \n",
              "std    5.555510e-01  5.643804e-01  3.283679e+00  \n",
              "min   -3.570800e+00 -2.689700e+00  0.000000e+00  \n",
              "25%   -8.973300e-01 -2.370700e-01  0.000000e+00  \n",
              "50%   -6.345000e-01  3.017200e-01  0.000000e+00  \n",
              "75%   -1.067800e-01  7.780200e-01  2.000000e+00  \n",
              "max    1.556500e+00  2.750000e+00  1.200000e+01  "
            ],
            "text/html": [
              "\n",
              "  <div id=\"df-bc34b3ae-0176-4592-a6f8-068be236a993\" class=\"colab-df-container\">\n",
              "    <div>\n",
              "<style scoped>\n",
              "    .dataframe tbody tr th:only-of-type {\n",
              "        vertical-align: middle;\n",
              "    }\n",
              "\n",
              "    .dataframe tbody tr th {\n",
              "        vertical-align: top;\n",
              "    }\n",
              "\n",
              "    .dataframe thead th {\n",
              "        text-align: right;\n",
              "    }\n",
              "</style>\n",
              "<table border=\"1\" class=\"dataframe\">\n",
              "  <thead>\n",
              "    <tr style=\"text-align: right;\">\n",
              "      <th></th>\n",
              "      <th>alx</th>\n",
              "      <th>aly</th>\n",
              "      <th>alz</th>\n",
              "      <th>glx</th>\n",
              "      <th>gly</th>\n",
              "      <th>glz</th>\n",
              "      <th>arx</th>\n",
              "      <th>ary</th>\n",
              "      <th>arz</th>\n",
              "      <th>grx</th>\n",
              "      <th>gry</th>\n",
              "      <th>grz</th>\n",
              "      <th>Activity</th>\n",
              "    </tr>\n",
              "  </thead>\n",
              "  <tbody>\n",
              "    <tr>\n",
              "      <th>count</th>\n",
              "      <td>1.215745e+06</td>\n",
              "      <td>1.215745e+06</td>\n",
              "      <td>1.215745e+06</td>\n",
              "      <td>1.215745e+06</td>\n",
              "      <td>1.215745e+06</td>\n",
              "      <td>1.215745e+06</td>\n",
              "      <td>1.215745e+06</td>\n",
              "      <td>1.215745e+06</td>\n",
              "      <td>1.215745e+06</td>\n",
              "      <td>1.215745e+06</td>\n",
              "      <td>1.215745e+06</td>\n",
              "      <td>1.215745e+06</td>\n",
              "      <td>1.215745e+06</td>\n",
              "    </tr>\n",
              "    <tr>\n",
              "      <th>mean</th>\n",
              "      <td>1.494200e+00</td>\n",
              "      <td>-9.692878e+00</td>\n",
              "      <td>-9.548056e-01</td>\n",
              "      <td>-1.598951e-03</td>\n",
              "      <td>-6.166318e-01</td>\n",
              "      <td>-1.587811e-01</td>\n",
              "      <td>-3.713413e+00</td>\n",
              "      <td>-5.805526e+00</td>\n",
              "      <td>2.393880e+00</td>\n",
              "      <td>-2.761061e-01</td>\n",
              "      <td>-4.664340e-01</td>\n",
              "      <td>2.666335e-01</td>\n",
              "      <td>1.741465e+00</td>\n",
              "    </tr>\n",
              "    <tr>\n",
              "      <th>std</th>\n",
              "      <td>3.826485e+00</td>\n",
              "      <td>4.171303e+00</td>\n",
              "      <td>5.461803e+00</td>\n",
              "      <td>4.912172e-01</td>\n",
              "      <td>3.546406e-01</td>\n",
              "      <td>5.467979e-01</td>\n",
              "      <td>4.763586e+00</td>\n",
              "      <td>5.757639e+00</td>\n",
              "      <td>3.876503e+00</td>\n",
              "      <td>5.276888e-01</td>\n",
              "      <td>5.555510e-01</td>\n",
              "      <td>5.643804e-01</td>\n",
              "      <td>3.283679e+00</td>\n",
              "    </tr>\n",
              "    <tr>\n",
              "      <th>min</th>\n",
              "      <td>-2.214600e+01</td>\n",
              "      <td>-1.961900e+01</td>\n",
              "      <td>-1.937300e+01</td>\n",
              "      <td>-2.146600e+00</td>\n",
              "      <td>-7.789900e+00</td>\n",
              "      <td>-2.626700e+00</td>\n",
              "      <td>-2.236100e+01</td>\n",
              "      <td>-1.897200e+01</td>\n",
              "      <td>-1.823900e+01</td>\n",
              "      <td>-8.339200e+00</td>\n",
              "      <td>-3.570800e+00</td>\n",
              "      <td>-2.689700e+00</td>\n",
              "      <td>0.000000e+00</td>\n",
              "    </tr>\n",
              "    <tr>\n",
              "      <th>25%</th>\n",
              "      <td>1.413100e-01</td>\n",
              "      <td>-1.020100e+01</td>\n",
              "      <td>-2.649400e+00</td>\n",
              "      <td>-4.359900e-01</td>\n",
              "      <td>-8.180100e-01</td>\n",
              "      <td>-5.933200e-01</td>\n",
              "      <td>-6.076000e+00</td>\n",
              "      <td>-9.404200e+00</td>\n",
              "      <td>1.296500e-01</td>\n",
              "      <td>-7.058800e-01</td>\n",
              "      <td>-8.973300e-01</td>\n",
              "      <td>-2.370700e-01</td>\n",
              "      <td>0.000000e+00</td>\n",
              "    </tr>\n",
              "    <tr>\n",
              "      <th>50%</th>\n",
              "      <td>1.308900e+00</td>\n",
              "      <td>-9.670300e+00</td>\n",
              "      <td>-1.645600e-02</td>\n",
              "      <td>-1.484200e-02</td>\n",
              "      <td>-7.073200e-01</td>\n",
              "      <td>-1.905700e-01</td>\n",
              "      <td>-2.977600e+00</td>\n",
              "      <td>-7.461500e+00</td>\n",
              "      <td>1.928100e+00</td>\n",
              "      <td>-3.549000e-01</td>\n",
              "      <td>-6.345000e-01</td>\n",
              "      <td>3.017200e-01</td>\n",
              "      <td>0.000000e+00</td>\n",
              "    </tr>\n",
              "    <tr>\n",
              "      <th>75%</th>\n",
              "      <td>2.575800e+00</td>\n",
              "      <td>-9.042200e+00</td>\n",
              "      <td>1.301300e+00</td>\n",
              "      <td>4.489800e-01</td>\n",
              "      <td>-5.403400e-01</td>\n",
              "      <td>3.222000e-01</td>\n",
              "      <td>-1.193700e+00</td>\n",
              "      <td>-2.533900e+00</td>\n",
              "      <td>4.914700e+00</td>\n",
              "      <td>9.607800e-02</td>\n",
              "      <td>-1.067800e-01</td>\n",
              "      <td>7.780200e-01</td>\n",
              "      <td>2.000000e+00</td>\n",
              "    </tr>\n",
              "    <tr>\n",
              "      <th>max</th>\n",
              "      <td>2.005400e+01</td>\n",
              "      <td>2.116100e+01</td>\n",
              "      <td>2.501500e+01</td>\n",
              "      <td>6.048400e+01</td>\n",
              "      <td>2.011300e+00</td>\n",
              "      <td>2.770100e+00</td>\n",
              "      <td>1.986400e+01</td>\n",
              "      <td>2.219100e+01</td>\n",
              "      <td>2.574100e+01</td>\n",
              "      <td>3.319600e+00</td>\n",
              "      <td>1.556500e+00</td>\n",
              "      <td>2.750000e+00</td>\n",
              "      <td>1.200000e+01</td>\n",
              "    </tr>\n",
              "  </tbody>\n",
              "</table>\n",
              "</div>\n",
              "    <div class=\"colab-df-buttons\">\n",
              "\n",
              "  <div class=\"colab-df-container\">\n",
              "    <button class=\"colab-df-convert\" onclick=\"convertToInteractive('df-bc34b3ae-0176-4592-a6f8-068be236a993')\"\n",
              "            title=\"Convert this dataframe to an interactive table.\"\n",
              "            style=\"display:none;\">\n",
              "\n",
              "  <svg xmlns=\"http://www.w3.org/2000/svg\" height=\"24px\" viewBox=\"0 -960 960 960\">\n",
              "    <path d=\"M120-120v-720h720v720H120Zm60-500h600v-160H180v160Zm220 220h160v-160H400v160Zm0 220h160v-160H400v160ZM180-400h160v-160H180v160Zm440 0h160v-160H620v160ZM180-180h160v-160H180v160Zm440 0h160v-160H620v160Z\"/>\n",
              "  </svg>\n",
              "    </button>\n",
              "\n",
              "  <style>\n",
              "    .colab-df-container {\n",
              "      display:flex;\n",
              "      gap: 12px;\n",
              "    }\n",
              "\n",
              "    .colab-df-convert {\n",
              "      background-color: #E8F0FE;\n",
              "      border: none;\n",
              "      border-radius: 50%;\n",
              "      cursor: pointer;\n",
              "      display: none;\n",
              "      fill: #1967D2;\n",
              "      height: 32px;\n",
              "      padding: 0 0 0 0;\n",
              "      width: 32px;\n",
              "    }\n",
              "\n",
              "    .colab-df-convert:hover {\n",
              "      background-color: #E2EBFA;\n",
              "      box-shadow: 0px 1px 2px rgba(60, 64, 67, 0.3), 0px 1px 3px 1px rgba(60, 64, 67, 0.15);\n",
              "      fill: #174EA6;\n",
              "    }\n",
              "\n",
              "    .colab-df-buttons div {\n",
              "      margin-bottom: 4px;\n",
              "    }\n",
              "\n",
              "    [theme=dark] .colab-df-convert {\n",
              "      background-color: #3B4455;\n",
              "      fill: #D2E3FC;\n",
              "    }\n",
              "\n",
              "    [theme=dark] .colab-df-convert:hover {\n",
              "      background-color: #434B5C;\n",
              "      box-shadow: 0px 1px 3px 1px rgba(0, 0, 0, 0.15);\n",
              "      filter: drop-shadow(0px 1px 2px rgba(0, 0, 0, 0.3));\n",
              "      fill: #FFFFFF;\n",
              "    }\n",
              "  </style>\n",
              "\n",
              "    <script>\n",
              "      const buttonEl =\n",
              "        document.querySelector('#df-bc34b3ae-0176-4592-a6f8-068be236a993 button.colab-df-convert');\n",
              "      buttonEl.style.display =\n",
              "        google.colab.kernel.accessAllowed ? 'block' : 'none';\n",
              "\n",
              "      async function convertToInteractive(key) {\n",
              "        const element = document.querySelector('#df-bc34b3ae-0176-4592-a6f8-068be236a993');\n",
              "        const dataTable =\n",
              "          await google.colab.kernel.invokeFunction('convertToInteractive',\n",
              "                                                    [key], {});\n",
              "        if (!dataTable) return;\n",
              "\n",
              "        const docLinkHtml = 'Like what you see? Visit the ' +\n",
              "          '<a target=\"_blank\" href=https://colab.research.google.com/notebooks/data_table.ipynb>data table notebook</a>'\n",
              "          + ' to learn more about interactive tables.';\n",
              "        element.innerHTML = '';\n",
              "        dataTable['output_type'] = 'display_data';\n",
              "        await google.colab.output.renderOutput(dataTable, element);\n",
              "        const docLink = document.createElement('div');\n",
              "        docLink.innerHTML = docLinkHtml;\n",
              "        element.appendChild(docLink);\n",
              "      }\n",
              "    </script>\n",
              "  </div>\n",
              "\n",
              "\n",
              "<div id=\"df-453e284e-7c0b-4396-ba36-e993494dbc05\">\n",
              "  <button class=\"colab-df-quickchart\" onclick=\"quickchart('df-453e284e-7c0b-4396-ba36-e993494dbc05')\"\n",
              "            title=\"Suggest charts\"\n",
              "            style=\"display:none;\">\n",
              "\n",
              "<svg xmlns=\"http://www.w3.org/2000/svg\" height=\"24px\"viewBox=\"0 0 24 24\"\n",
              "     width=\"24px\">\n",
              "    <g>\n",
              "        <path d=\"M19 3H5c-1.1 0-2 .9-2 2v14c0 1.1.9 2 2 2h14c1.1 0 2-.9 2-2V5c0-1.1-.9-2-2-2zM9 17H7v-7h2v7zm4 0h-2V7h2v10zm4 0h-2v-4h2v4z\"/>\n",
              "    </g>\n",
              "</svg>\n",
              "  </button>\n",
              "\n",
              "<style>\n",
              "  .colab-df-quickchart {\n",
              "      --bg-color: #E8F0FE;\n",
              "      --fill-color: #1967D2;\n",
              "      --hover-bg-color: #E2EBFA;\n",
              "      --hover-fill-color: #174EA6;\n",
              "      --disabled-fill-color: #AAA;\n",
              "      --disabled-bg-color: #DDD;\n",
              "  }\n",
              "\n",
              "  [theme=dark] .colab-df-quickchart {\n",
              "      --bg-color: #3B4455;\n",
              "      --fill-color: #D2E3FC;\n",
              "      --hover-bg-color: #434B5C;\n",
              "      --hover-fill-color: #FFFFFF;\n",
              "      --disabled-bg-color: #3B4455;\n",
              "      --disabled-fill-color: #666;\n",
              "  }\n",
              "\n",
              "  .colab-df-quickchart {\n",
              "    background-color: var(--bg-color);\n",
              "    border: none;\n",
              "    border-radius: 50%;\n",
              "    cursor: pointer;\n",
              "    display: none;\n",
              "    fill: var(--fill-color);\n",
              "    height: 32px;\n",
              "    padding: 0;\n",
              "    width: 32px;\n",
              "  }\n",
              "\n",
              "  .colab-df-quickchart:hover {\n",
              "    background-color: var(--hover-bg-color);\n",
              "    box-shadow: 0 1px 2px rgba(60, 64, 67, 0.3), 0 1px 3px 1px rgba(60, 64, 67, 0.15);\n",
              "    fill: var(--button-hover-fill-color);\n",
              "  }\n",
              "\n",
              "  .colab-df-quickchart-complete:disabled,\n",
              "  .colab-df-quickchart-complete:disabled:hover {\n",
              "    background-color: var(--disabled-bg-color);\n",
              "    fill: var(--disabled-fill-color);\n",
              "    box-shadow: none;\n",
              "  }\n",
              "\n",
              "  .colab-df-spinner {\n",
              "    border: 2px solid var(--fill-color);\n",
              "    border-color: transparent;\n",
              "    border-bottom-color: var(--fill-color);\n",
              "    animation:\n",
              "      spin 1s steps(1) infinite;\n",
              "  }\n",
              "\n",
              "  @keyframes spin {\n",
              "    0% {\n",
              "      border-color: transparent;\n",
              "      border-bottom-color: var(--fill-color);\n",
              "      border-left-color: var(--fill-color);\n",
              "    }\n",
              "    20% {\n",
              "      border-color: transparent;\n",
              "      border-left-color: var(--fill-color);\n",
              "      border-top-color: var(--fill-color);\n",
              "    }\n",
              "    30% {\n",
              "      border-color: transparent;\n",
              "      border-left-color: var(--fill-color);\n",
              "      border-top-color: var(--fill-color);\n",
              "      border-right-color: var(--fill-color);\n",
              "    }\n",
              "    40% {\n",
              "      border-color: transparent;\n",
              "      border-right-color: var(--fill-color);\n",
              "      border-top-color: var(--fill-color);\n",
              "    }\n",
              "    60% {\n",
              "      border-color: transparent;\n",
              "      border-right-color: var(--fill-color);\n",
              "    }\n",
              "    80% {\n",
              "      border-color: transparent;\n",
              "      border-right-color: var(--fill-color);\n",
              "      border-bottom-color: var(--fill-color);\n",
              "    }\n",
              "    90% {\n",
              "      border-color: transparent;\n",
              "      border-bottom-color: var(--fill-color);\n",
              "    }\n",
              "  }\n",
              "</style>\n",
              "\n",
              "  <script>\n",
              "    async function quickchart(key) {\n",
              "      const quickchartButtonEl =\n",
              "        document.querySelector('#' + key + ' button');\n",
              "      quickchartButtonEl.disabled = true;  // To prevent multiple clicks.\n",
              "      quickchartButtonEl.classList.add('colab-df-spinner');\n",
              "      try {\n",
              "        const charts = await google.colab.kernel.invokeFunction(\n",
              "            'suggestCharts', [key], {});\n",
              "      } catch (error) {\n",
              "        console.error('Error during call to suggestCharts:', error);\n",
              "      }\n",
              "      quickchartButtonEl.classList.remove('colab-df-spinner');\n",
              "      quickchartButtonEl.classList.add('colab-df-quickchart-complete');\n",
              "    }\n",
              "    (() => {\n",
              "      let quickchartButtonEl =\n",
              "        document.querySelector('#df-453e284e-7c0b-4396-ba36-e993494dbc05 button');\n",
              "      quickchartButtonEl.style.display =\n",
              "        google.colab.kernel.accessAllowed ? 'block' : 'none';\n",
              "    })();\n",
              "  </script>\n",
              "</div>\n",
              "\n",
              "    </div>\n",
              "  </div>\n"
            ],
            "application/vnd.google.colaboratory.intrinsic+json": {
              "type": "dataframe",
              "summary": "{\n  \"name\": \"auto_data\",\n  \"rows\": 8,\n  \"fields\": [\n    {\n      \"column\": \"alx\",\n      \"properties\": {\n        \"dtype\": \"number\",\n        \"std\": 429830.4005806433,\n        \"min\": -22.146,\n        \"max\": 1215745.0,\n        \"num_unique_values\": 8,\n        \"samples\": [\n          1.4941999629404317,\n          1.3089,\n          1215745.0\n        ],\n        \"semantic_type\": \"\",\n        \"description\": \"\"\n      }\n    },\n    {\n      \"column\": \"aly\",\n      \"properties\": {\n        \"dtype\": \"number\",\n        \"std\": 429832.4283756266,\n        \"min\": -19.619,\n        \"max\": 1215745.0,\n        \"num_unique_values\": 8,\n        \"samples\": [\n          -9.69287847713244,\n          -9.6703,\n          1215745.0\n        ],\n        \"semantic_type\": \"\",\n        \"description\": \"\"\n      }\n    },\n    {\n      \"column\": \"alz\",\n      \"properties\": {\n        \"dtype\": \"number\",\n        \"std\": 429830.3233366013,\n        \"min\": -19.373,\n        \"max\": 1215745.0,\n        \"num_unique_values\": 8,\n        \"samples\": [\n          -0.9548056442218503,\n          -0.016456,\n          1215745.0\n        ],\n        \"semantic_type\": \"\",\n        \"description\": \"\"\n      }\n    },\n    {\n      \"column\": \"glx\",\n      \"properties\": {\n        \"dtype\": \"number\",\n        \"std\": 429827.79625390744,\n        \"min\": -2.1466,\n        \"max\": 1215745.0,\n        \"num_unique_values\": 8,\n        \"samples\": [\n          -0.0015989510928689883,\n          -0.014842,\n          1215745.0\n        ],\n        \"semantic_type\": \"\",\n        \"description\": \"\"\n      }\n    },\n    {\n      \"column\": \"gly\",\n      \"properties\": {\n        \"dtype\": \"number\",\n        \"std\": 429831.17628436047,\n        \"min\": -7.7899,\n        \"max\": 1215745.0,\n        \"num_unique_values\": 8,\n        \"samples\": [\n          -0.6166317743609886,\n          -0.70732,\n          1215745.0\n        ],\n        \"semantic_type\": \"\",\n        \"description\": \"\"\n      }\n    },\n    {\n      \"column\": \"glz\",\n      \"properties\": {\n        \"dtype\": \"number\",\n        \"std\": 429830.76332764426,\n        \"min\": -2.6267,\n        \"max\": 1215745.0,\n        \"num_unique_values\": 8,\n        \"samples\": [\n          -0.15878112976216233,\n          -0.19057,\n          1215745.0\n        ],\n        \"semantic_type\": \"\",\n        \"description\": \"\"\n      }\n    },\n    {\n      \"column\": \"arx\",\n      \"properties\": {\n        \"dtype\": \"number\",\n        \"std\": 429831.35764873284,\n        \"min\": -22.361,\n        \"max\": 1215745.0,\n        \"num_unique_values\": 8,\n        \"samples\": [\n          -3.713413084552312,\n          -2.9776,\n          1215745.0\n        ],\n        \"semantic_type\": \"\",\n        \"description\": \"\"\n      }\n    },\n    {\n      \"column\": \"ary\",\n      \"properties\": {\n        \"dtype\": \"number\",\n        \"std\": 429831.58668070193,\n        \"min\": -18.972,\n        \"max\": 1215745.0,\n        \"num_unique_values\": 8,\n        \"samples\": [\n          -5.805526197568066,\n          -7.4615,\n          1215745.0\n        ],\n        \"semantic_type\": \"\",\n        \"description\": \"\"\n      }\n    },\n    {\n      \"column\": \"arz\",\n      \"properties\": {\n        \"dtype\": \"number\",\n        \"std\": 429829.71923775616,\n        \"min\": -18.239,\n        \"max\": 1215745.0,\n        \"num_unique_values\": 8,\n        \"samples\": [\n          2.3938803978726093,\n          1.9281,\n          1215745.0\n        ],\n        \"semantic_type\": \"\",\n        \"description\": \"\"\n      }\n    },\n    {\n      \"column\": \"grx\",\n      \"properties\": {\n        \"dtype\": \"number\",\n        \"std\": 429831.0564056399,\n        \"min\": -8.3392,\n        \"max\": 1215745.0,\n        \"num_unique_values\": 8,\n        \"samples\": [\n          -0.27610608601803843,\n          -0.3549,\n          1215745.0\n        ],\n        \"semantic_type\": \"\",\n        \"description\": \"\"\n      }\n    },\n    {\n      \"column\": \"gry\",\n      \"properties\": {\n        \"dtype\": \"number\",\n        \"std\": 429830.94684805756,\n        \"min\": -3.5708,\n        \"max\": 1215745.0,\n        \"num_unique_values\": 8,\n        \"samples\": [\n          -0.46643400950347336,\n          -0.6345,\n          1215745.0\n        ],\n        \"semantic_type\": \"\",\n        \"description\": \"\"\n      }\n    },\n    {\n      \"column\": \"grz\",\n      \"properties\": {\n        \"dtype\": \"number\",\n        \"std\": 429830.67926998716,\n        \"min\": -2.6897,\n        \"max\": 1215745.0,\n        \"num_unique_values\": 8,\n        \"samples\": [\n          0.2666334710682751,\n          0.30172,\n          1215745.0\n        ],\n        \"semantic_type\": \"\",\n        \"description\": \"\"\n      }\n    },\n    {\n      \"column\": \"Activity\",\n      \"properties\": {\n        \"dtype\": \"number\",\n        \"std\": 429829.80595026235,\n        \"min\": 0.0,\n        \"max\": 1215745.0,\n        \"num_unique_values\": 6,\n        \"samples\": [\n          1215745.0,\n          1.7414646986004467,\n          12.0\n        ],\n        \"semantic_type\": \"\",\n        \"description\": \"\"\n      }\n    }\n  ]\n}"
            }
          },
          "metadata": {},
          "execution_count": 95
        }
      ]
    },
    {
      "cell_type": "code",
      "source": [
        "train_df = auto_data.sample(196, random_state = 1) # split the data into two halfs # random_state to get the same result every time\n",
        "val_df = auto_data[~auto_data.isin(train_df)].dropna(how = 'all')\n",
        "\n",
        "X_train = train_df['alx'].values.reshape(-1,1)\n",
        "y_train = train_df['aly']\n",
        "X_val = val_df['alz'].values.reshape(-1,1)\n",
        "y_val = val_df['glx']"
      ],
      "metadata": {
        "id": "19Xp0m4PKETO"
      },
      "execution_count": 96,
      "outputs": []
    },
    {
      "cell_type": "code",
      "source": [
        "from sklearn.preprocessing import PolynomialFeatures\n",
        "from sklearn.metrics import mean_squared_error\n",
        "\n",
        "# Linear\n",
        "lm = skl_lm.LinearRegression()\n",
        "\n",
        "model = lm.fit(X_train, y_train)\n",
        "print(mean_squared_error(y_val, model.predict(X_val)))\n",
        "\n",
        "# Quadratic\n",
        "poly = PolynomialFeatures(degree=2)\n",
        "X_train2 = poly.fit_transform(X_train)\n",
        "X_val2 = poly.fit_transform(X_val)\n",
        "\n",
        "model = lm.fit(X_train2, y_train)\n",
        "print(mean_squared_error(y_val, model.predict(X_val2)))\n",
        "\n",
        "# Cubic\n",
        "poly = PolynomialFeatures(degree=3)\n",
        "X_train3 = poly.fit_transform(X_train)\n",
        "X_val3 = poly.fit_transform(X_val)\n",
        "\n",
        "model = lm.fit(X_train3, y_train)\n",
        "print(mean_squared_error(y_val, model.predict(X_val3)))"
      ],
      "metadata": {
        "colab": {
          "base_uri": "https://localhost:8080/"
        },
        "id": "-aRlvzcJJ7n9",
        "outputId": "d381faa0-dd6c-4851-81a7-677b85708b4e"
      },
      "execution_count": 97,
      "outputs": [
        {
          "output_type": "stream",
          "name": "stdout",
          "text": [
            "90.26304073144514\n",
            "95.51983838745835\n",
            "105.56308996776153\n"
          ]
        }
      ]
    },
    {
      "cell_type": "code",
      "source": [
        "train_df = auto_data.sample(196, random_state = 2) # split the data into two halfs # random_state to get the same result every time\n",
        "val_df = auto_data[~auto_data.isin(train_df)].dropna(how = 'all')\n",
        "\n",
        "X_train = train_df['alx'].values.reshape(-1,1)\n",
        "y_train = train_df['aly']\n",
        "X_val = val_df['alz'].values.reshape(-1,1)\n",
        "y_val = val_df['glx']\n",
        "\n",
        "model = lm.fit(X_train, y_train)\n",
        "print(mean_squared_error(y_val, model.predict(X_val)))\n",
        "\n",
        "# Quadratic\n",
        "poly = PolynomialFeatures(degree=2)\n",
        "X_train2 = poly.fit_transform(X_train)\n",
        "X_val2 = poly.fit_transform(X_val)\n",
        "\n",
        "model = lm.fit(X_train2, y_train)\n",
        "print(mean_squared_error(y_val, model.predict(X_val2)))\n",
        "\n",
        "# Cubic\n",
        "poly = PolynomialFeatures(degree=3)\n",
        "X_train3 = poly.fit_transform(X_train)\n",
        "X_val3 = poly.fit_transform(X_val)\n",
        "\n",
        "model = lm.fit(X_train3, y_train)\n",
        "print(mean_squared_error(y_val, model.predict(X_val3)))"
      ],
      "metadata": {
        "colab": {
          "base_uri": "https://localhost:8080/"
        },
        "id": "HwcSsp_1KBqi",
        "outputId": "4d614bb4-88f4-46e2-bb18-8e3b86025cf2"
      },
      "execution_count": 98,
      "outputs": [
        {
          "output_type": "stream",
          "name": "stdout",
          "text": [
            "88.07690244889599\n",
            "88.7671597647046\n",
            "104.79548023263176\n"
          ]
        }
      ]
    },
    {
      "cell_type": "code",
      "source": [
        "#Leave-One-Out Cross-Validation (LOOCV)\n",
        "from sklearn.model_selection import LeaveOneOut\n",
        "from sklearn.model_selection import cross_val_score\n",
        "from sklearn.model_selection import KFold\n",
        "\n",
        "X = auto_data['alx'].values.reshape(-1,1)\n",
        "y = auto_data['aly'].values.reshape(-1,1)\n",
        "\n",
        "# making n_splits = # of entries make the cross_val_score use only one entry for testing and the rest for training (LOOCV)\n",
        "crossvalidation = KFold(n_splits=392, random_state=None, shuffle=False)\n",
        "\n",
        "# cross validation scores : https://scikit-learn.org/stable/modules/generated/sklearn.model_selection.cross_val_score.html\n",
        "scores = cross_val_score(lm, X, y, scoring=\"neg_mean_squared_error\", cv=crossvalidation,\n",
        " n_jobs=1)\n",
        "\n",
        "#print(scores)\n",
        "print(\"Folds: \" + str(len(scores)) + \", MSE: \" + str(np.mean(np.abs(scores))) + \", STD: \" + str(np.std(scores)))\n"
      ],
      "metadata": {
        "colab": {
          "base_uri": "https://localhost:8080/"
        },
        "id": "B7mBzx4wKTJd",
        "outputId": "c37b6afd-7c47-4346-afd2-33ccf09aca8f"
      },
      "execution_count": 99,
      "outputs": [
        {
          "output_type": "stream",
          "name": "stdout",
          "text": [
            "Folds: 392, MSE: 17.432586519337843, STD: 22.115207908\n"
          ]
        }
      ]
    },
    {
      "cell_type": "code",
      "source": [
        "for i in range(1,6):\n",
        "    poly = PolynomialFeatures(degree=i)\n",
        "    X_current = poly.fit_transform(X)\n",
        "    scores = cross_val_score(lm, X_current, y, scoring=\"neg_mean_squared_error\", cv=crossvalidation,n_jobs=1)\n",
        "    print(\"Degree-\"+str(i)+\" polynomial MSE: \" + str(np.mean(np.abs(scores))) + \", STD: \" + str(np.std(scores)))"
      ],
      "metadata": {
        "colab": {
          "base_uri": "https://localhost:8080/"
        },
        "id": "-lsAeHSXKdIc",
        "outputId": "80c1737e-0e63-438b-8014-9f3e569a4eec"
      },
      "execution_count": 100,
      "outputs": [
        {
          "output_type": "stream",
          "name": "stdout",
          "text": [
            "Degree-1 polynomial MSE: 17.432586519337846, STD: 22.115207908\n",
            "Degree-2 polynomial MSE: 17.177766424492606, STD: 22.07046840607775\n",
            "Degree-3 polynomial MSE: 17.118308921171778, STD: 21.62853992554251\n",
            "Degree-4 polynomial MSE: 17.01429987929573, STD: 21.7886698243346\n",
            "Degree-5 polynomial MSE: 16.955829641926716, STD: 21.521883691852263\n"
          ]
        }
      ]
    },
    {
      "cell_type": "code",
      "source": [
        "#k-Fold Cross-Validation\n",
        "crossvalidation = KFold(n_splits=10, random_state=None, shuffle=False)\n",
        "\n",
        "for i in range(1,11):\n",
        "    poly = PolynomialFeatures(degree=i)\n",
        "    X_current = poly.fit_transform(X)\n",
        "    scores = cross_val_score(lm, X_current, y, scoring=\"neg_mean_squared_error\", cv=crossvalidation,\n",
        " n_jobs=1)\n",
        "    print(\"Degree-\"+str(i)+\" polynomial MSE: \" + str(np.mean(np.abs(scores))) + \", STD: \" + str(np.std(scores)))"
      ],
      "metadata": {
        "id": "rdsGCVgKKutU",
        "colab": {
          "base_uri": "https://localhost:8080/"
        },
        "outputId": "f8a2df47-851e-4639-cc93-908fdd397ff5"
      },
      "execution_count": null,
      "outputs": [
        {
          "output_type": "stream",
          "name": "stdout",
          "text": [
            "Degree-1 polynomial MSE: 10.18945428310106, STD: 0.5979048636394592\n",
            "Degree-2 polynomial MSE: 8.011268714258605, STD: 0.37802289056000893\n",
            "Degree-3 polynomial MSE: 12.189392049875371, STD: 12.671329002486615\n",
            "Degree-4 polynomial MSE: 76.69571528870767, STD: 35.48481882272413\n"
          ]
        }
      ]
    },
    {
      "cell_type": "code",
      "source": [],
      "metadata": {
        "id": "ZyJGFhI0rKLs"
      },
      "execution_count": null,
      "outputs": []
    }
  ]
}